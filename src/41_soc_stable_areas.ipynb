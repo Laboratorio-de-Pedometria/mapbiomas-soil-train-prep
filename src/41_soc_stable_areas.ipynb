{
 "cells": [
  {
   "cell_type": "markdown",
   "id": "634fe4fc",
   "metadata": {},
   "source": [
    "# Samples in areas of stable LULC\n",
    "\n",
    "Alessandro Samuel-Rosa, Taciara Zborowski Horst\n",
    "\n",
    "2025-06-20\n",
    "\n",
    "This script samples the MapBiomas land use and land cover classification dataset (Collection 9) and identifies the soil samples that fall within areas of stable land use and land cover. As area of stable LULC, we consider areas that have not changed their land use or land cover for at least 20 years.\n",
    "\n",
    "License: MIT"
   ]
  },
  {
   "cell_type": "code",
   "execution_count": 1,
   "id": "f9041e5a",
   "metadata": {},
   "outputs": [
    {
     "name": "stdout",
     "output_type": "stream",
     "text": [
      "(12666, 7)\n",
      "                                      id    coord_x    coord_y  year  \\\n",
      "0                    ctb0003-sm-dnos-001 -53.794645 -29.651271  2009   \n",
      "1                    ctb0003-sm-dnos-002 -53.793987 -29.650564  2009   \n",
      "2                    ctb0003-sm-dnos-003 -53.793993 -29.650232  2009   \n",
      "3                    ctb0003-sm-dnos-004 -53.794345 -29.650311  2009   \n",
      "4                    ctb0003-sm-dnos-005 -53.792947 -29.650838  2009   \n",
      "...                                  ...        ...        ...   ...   \n",
      "12661                  ctb0717-22-XYREP4 -72.650107  -7.048733  1985   \n",
      "12662  ctb0053-RO_567_INDEFORMADA-XYREP1 -62.640199 -12.960279  2015   \n",
      "12663  ctb0053-RO_567_INDEFORMADA-XYREP2 -62.639774 -12.959962  2015   \n",
      "12664  ctb0053-RO_567_INDEFORMADA-XYREP3 -62.640601 -12.959971  2015   \n",
      "12665  ctb0053-RO_567_INDEFORMADA-XYREP4 -62.640242 -12.959482  2015   \n",
      "\n",
      "       soc_stock_g_m2  IFN_index  YEAR_index  \n",
      "0                1341          0           0  \n",
      "1                2246          0           0  \n",
      "2                2340          0           0  \n",
      "3                3933          0           0  \n",
      "4                2738          0           0  \n",
      "...               ...        ...         ...  \n",
      "12661           52786          0         -37  \n",
      "12662           34398          1           0  \n",
      "12663           34246          1           0  \n",
      "12664           34202          1           0  \n",
      "12665           34173          1           0  \n",
      "\n",
      "[12666 rows x 7 columns]\n"
     ]
    }
   ],
   "source": [
    "# Import necessary libraries\n",
    "import os\n",
    "import pandas as pd\n",
    "\n",
    "# Identify working directory, saving the path to a variable\n",
    "src_dir = os.getcwd()\n",
    "work_dir = os.path.dirname(src_dir)\n",
    "\n",
    "# Read the soil data processed in the previous script\n",
    "# folder: data\n",
    "# file: 40_soildata_soc.txt\n",
    "# separator: tab\n",
    "file_path = os.path.join(work_dir, 'data', '40_soildata_soc.txt')\n",
    "soildata = pd.read_csv(file_path, sep='\\t', low_memory=False)\n",
    "print(soildata.shape)\n",
    "\n",
    "# Print the first 5 rows of the data frame\n",
    "print(soildata)"
   ]
  },
  {
   "cell_type": "code",
   "execution_count": null,
   "id": "b48b675a",
   "metadata": {},
   "outputs": [
    {
     "name": "stdout",
     "output_type": "stream",
     "text": [
      "12666 features\n",
      "13 chunks\n"
     ]
    }
   ],
   "source": [
    "# (this takes a couple of minutes to run)\n",
    "\n",
    "# Import necessary libraries\n",
    "import ee\n",
    "import geemap\n",
    "\n",
    "# Initialize the Earth Engine API\n",
    "# ee.Authenticate()\n",
    "ee.Initialize(project='mapbiomas-solos-workspace')\n",
    "\n",
    "# Convert DataFrame to Earth Engine Feature Collection\n",
    "soildata_fc = geemap.df_to_ee(soildata, latitude = 'coord_y', longitude = 'coord_x')\n",
    "print(soildata_fc.size().getInfo(), 'features')\n",
    "\n",
    "# Function to split a feature collection (sampling points) into chunks\n",
    "def split_sampling_points(fc, chunk_size):\n",
    "    features = fc.toList(fc.size())\n",
    "    chunks = [features.slice(i, i + chunk_size) for i in range(0, features.size().getInfo(), chunk_size)]\n",
    "    return [ee.FeatureCollection(chunk) for chunk in chunks]\n",
    "\n",
    "# Split the sample points into subsets of 1000 points each\n",
    "# This is necessary to avoid timeout errors\n",
    "chunk_size = 1000\n",
    "soildata_chunks = split_sampling_points(soildata_fc, chunk_size)\n",
    "print(len(soildata_chunks), 'chunks')"
   ]
  },
  {
   "cell_type": "code",
   "execution_count": 3,
   "id": "6e4cff67",
   "metadata": {},
   "outputs": [
    {
     "data": {
      "text/html": [
       "\n",
       "            <style>\n",
       "                .geemap-dark {\n",
       "                    --jp-widgets-color: white;\n",
       "                    --jp-widgets-label-color: white;\n",
       "                    --jp-ui-font-color1: white;\n",
       "                    --jp-layout-color2: #454545;\n",
       "                    background-color: #383838;\n",
       "                }\n",
       "\n",
       "                .geemap-dark .jupyter-button {\n",
       "                    --jp-layout-color3: #383838;\n",
       "                }\n",
       "\n",
       "                .geemap-colab {\n",
       "                    background-color: var(--colab-primary-surface-color, white);\n",
       "                }\n",
       "\n",
       "                .geemap-colab .jupyter-button {\n",
       "                    --jp-layout-color3: var(--colab-primary-surface-color, white);\n",
       "                }\n",
       "            </style>\n",
       "            "
      ],
      "text/plain": [
       "<IPython.core.display.HTML object>"
      ]
     },
     "metadata": {},
     "output_type": "display_data"
    },
    {
     "name": "stdout",
     "output_type": "stream",
     "text": [
      "(12666, 46)\n",
      "   IFN_index  YEAR_index  1985  1986  1987  1988  1989  1990  1991  1992  ...  \\\n",
      "0          0           0    21    21    21    21    21    21    21    21  ...   \n",
      "1          0           0    15    15    15    21    21    21    21    21  ...   \n",
      "2          0           0    21    21    21    21    21    21    21    21  ...   \n",
      "3          0           0    21    21    21    21    21    21    21    21  ...   \n",
      "4          0           0    12    12    12    12    12    12    12    12  ...   \n",
      "\n",
      "   2019  2020  2021  2022  2023    coord_x    coord_y                   id  \\\n",
      "0    21    21    21    21     3 -53.794645 -29.651271  ctb0003-sm-dnos-001   \n",
      "1    12    12    12    12    12 -53.793987 -29.650564  ctb0003-sm-dnos-002   \n",
      "2    12    12    12    12    12 -53.793993 -29.650232  ctb0003-sm-dnos-003   \n",
      "3     3     3     3     3     3 -53.794345 -29.650311  ctb0003-sm-dnos-004   \n",
      "4    12    12    12    12    12 -53.792947 -29.650838  ctb0003-sm-dnos-005   \n",
      "\n",
      "   soc_stock_g_m2  year  \n",
      "0            1341  2009  \n",
      "1            2246  2009  \n",
      "2            2340  2009  \n",
      "3            3933  2009  \n",
      "4            2738  2009  \n",
      "\n",
      "[5 rows x 46 columns]\n"
     ]
    }
   ],
   "source": [
    "# (this takes about 10 minutes to run)\n",
    "\n",
    "# MapBiomas LULC Collection\n",
    "\n",
    "# Import the MapBiomas Collection 9.0\n",
    "collection = 'projects/mapbiomas-public/assets/brazil/lulc/collection9/mapbiomas_collection90_integration_v1'\n",
    "mapbiomas_image = ee.Image(collection)\n",
    "\n",
    "# Initialize an empty list to store DataFrames\n",
    "dataframes = []\n",
    "\n",
    "# Loop over each subset and sample the data\n",
    "for chunk in soildata_chunks:\n",
    "    sampled_points = geemap.extract_values_to_points(chunk, mapbiomas_image, scale=30)\n",
    "    sampled_df = geemap.ee_to_df(sampled_points)\n",
    "    dataframes.append(sampled_df)\n",
    "\n",
    "# Concatenate all DataFrames into a single DataFrame\n",
    "mapbiomas_df = pd.concat(dataframes, ignore_index=True)\n",
    "\n",
    "# Rename columns\n",
    "# Remove classification_ prefix from column names\n",
    "mapbiomas_df.columns = mapbiomas_df.columns.str.replace('classification_', '')\n",
    "\n",
    "# Save the sampled data to a CSV file\n",
    "output_file = os.path.join(work_dir, 'data', '41_soildata_soc.txt')\n",
    "mapbiomas_df.to_csv(output_file, sep='\\t', index=False)\n",
    "# Print the shape of the final DataFrame\n",
    "print(mapbiomas_df.shape)\n",
    "# Print the first 5 rows of the final DataFrame\n",
    "print(mapbiomas_df.head())"
   ]
  },
  {
   "cell_type": "code",
   "execution_count": 4,
   "id": "98dd6714",
   "metadata": {},
   "outputs": [
    {
     "data": {
      "text/html": [
       "\n",
       "            <style>\n",
       "                .geemap-dark {\n",
       "                    --jp-widgets-color: white;\n",
       "                    --jp-widgets-label-color: white;\n",
       "                    --jp-ui-font-color1: white;\n",
       "                    --jp-layout-color2: #454545;\n",
       "                    background-color: #383838;\n",
       "                }\n",
       "\n",
       "                .geemap-dark .jupyter-button {\n",
       "                    --jp-layout-color3: #383838;\n",
       "                }\n",
       "\n",
       "                .geemap-colab {\n",
       "                    background-color: var(--colab-primary-surface-color, white);\n",
       "                }\n",
       "\n",
       "                .geemap-colab .jupyter-button {\n",
       "                    --jp-layout-color3: var(--colab-primary-surface-color, white);\n",
       "                }\n",
       "            </style>\n",
       "            "
      ],
      "text/plain": [
       "<IPython.core.display.HTML object>"
      ]
     },
     "metadata": {},
     "output_type": "display_data"
    },
    {
     "name": "stdout",
     "output_type": "stream",
     "text": [
      "(0, 46)\n",
      "Empty DataFrame\n",
      "Columns: [IFN_index, YEAR_index, 1985, 1986, 1987, 1988, 1989, 1990, 1991, 1992, 1993, 1994, 1995, 1996, 1997, 1998, 1999, 2000, 2001, 2002, 2003, 2004, 2005, 2006, 2007, 2008, 2009, 2010, 2011, 2012, 2013, 2014, 2015, 2016, 2017, 2018, 2019, 2020, 2021, 2022, 2023, coord_x, coord_y, id, soc_stock_g_m2, year]\n",
      "Index: []\n",
      "\n",
      "[0 rows x 46 columns]\n"
     ]
    }
   ],
   "source": [
    "# Check if there are soil samples with no information on LULC\n",
    "\n",
    "# LULC information is stores in columns named '1985' through '2023'\n",
    "no_lulc = mapbiomas_df[mapbiomas_df.loc[:, '1985':'2023'].isnull().all(axis=1)]\n",
    "# Print the shape of the DataFrame with no LULC information\n",
    "print(no_lulc.shape)\n",
    "# Print the first 5 rows of the DataFrame with no LULC information\n",
    "print(no_lulc.head())"
   ]
  },
  {
   "cell_type": "code",
   "execution_count": 14,
   "id": "1b4cfe2e",
   "metadata": {},
   "outputs": [
    {
     "data": {
      "text/html": [
       "\n",
       "            <style>\n",
       "                .geemap-dark {\n",
       "                    --jp-widgets-color: white;\n",
       "                    --jp-widgets-label-color: white;\n",
       "                    --jp-ui-font-color1: white;\n",
       "                    --jp-layout-color2: #454545;\n",
       "                    background-color: #383838;\n",
       "                }\n",
       "\n",
       "                .geemap-dark .jupyter-button {\n",
       "                    --jp-layout-color3: #383838;\n",
       "                }\n",
       "\n",
       "                .geemap-colab {\n",
       "                    background-color: var(--colab-primary-surface-color, white);\n",
       "                }\n",
       "\n",
       "                .geemap-colab .jupyter-button {\n",
       "                    --jp-layout-color3: var(--colab-primary-surface-color, white);\n",
       "                }\n",
       "            </style>\n",
       "            "
      ],
      "text/plain": [
       "<IPython.core.display.HTML object>"
      ]
     },
     "metadata": {},
     "output_type": "display_data"
    },
    {
     "name": "stdout",
     "output_type": "stream",
     "text": [
      "(4790, 46)\n",
      "(4790, 49)\n",
      "   IFN_index  YEAR_index  1985  1986  1987  1988  1989  1990  1991  1992  ...  \\\n",
      "0          0           0    21    21    21    21    21    21    21    21  ...   \n",
      "1          0           0    15    15    15    21    21    21    21    21  ...   \n",
      "2          0           0    21    21    21    21    21    21    21    21  ...   \n",
      "3          0           0    21    21    21    21    21    21    21    21  ...   \n",
      "4          0           0    12    12    12    12    12    12    12    12  ...   \n",
      "\n",
      "   2022  2023    coord_x    coord_y                   id  soc_stock_g_m2  \\\n",
      "0    21     3 -53.794645 -29.651271  ctb0003-sm-dnos-001            1341   \n",
      "1    12    12 -53.793987 -29.650564  ctb0003-sm-dnos-002            2246   \n",
      "2    12    12 -53.793993 -29.650232  ctb0003-sm-dnos-003            2340   \n",
      "3     3     3 -53.794345 -29.650311  ctb0003-sm-dnos-004            3933   \n",
      "4    12    12 -53.792947 -29.650838  ctb0003-sm-dnos-005            2738   \n",
      "\n",
      "   year                                      lulc_20_years  \\\n",
      "0  2009  [21, 21, 21, 21, 21, 21, 21, 21, 21, 21, 12, 1...   \n",
      "1  2009  [21, 21, 21, 21, 41, 41, 12, 12, 12, 12, 12, 1...   \n",
      "2  2009  [21, 21, 21, 21, 21, 21, 12, 12, 12, 12, 12, 1...   \n",
      "3  2009  [21, 21, 21, 21, 21, 21, 3, 3, 3, 3, 0, 0, 21,...   \n",
      "4  2009  [12, 12, 12, 12, 12, 12, 12, 12, 12, 12, 12, 1...   \n",
      "\n",
      "   lulc_20_years_same  lulc_sampling_year  \n",
      "0               False                 NaN  \n",
      "1               False                 NaN  \n",
      "2               False                 NaN  \n",
      "3               False                 NaN  \n",
      "4                True                12.0  \n",
      "\n",
      "[5 rows x 49 columns]\n"
     ]
    }
   ],
   "source": [
    "# All features have LULC information, so we can proceed to the next step...\n",
    "\n",
    "# Identify the features for which the sampling year is greater than 2004 ('year' > 2004)\n",
    "recent_features = mapbiomas_df[mapbiomas_df['year'] > 2004].copy()\n",
    "print(recent_features.shape)\n",
    "\n",
    "# For each feature, retrieve the LULC information for the 19 previous years plus the sampling year\n",
    "def get_lulc_20_years(row):\n",
    "    start = str(int(row['year']) - 19)\n",
    "    end = str(int(row['year']))\n",
    "    # Ensure columns exist in DataFrame\n",
    "    cols = [col for col in mapbiomas_df.columns if col.isdigit() and start <= col <= end]\n",
    "    return row[cols].dropna().tolist()\n",
    "\n",
    "recent_features['lulc_20_years'] = recent_features.apply(get_lulc_20_years, axis=1)\n",
    "\n",
    "# Check if the LULC information for the last 20 years is all the same\n",
    "recent_features['lulc_20_years_same'] = recent_features['lulc_20_years'].apply(\n",
    "    lambda x: len(set(x)) == 1 if x else False\n",
    ")\n",
    "\n",
    "# For those features where the LULC information for the last 20 years is all the same, retrieve the LULC information for the sampling year\n",
    "def get_lulc_sampling_year(row):\n",
    "    if row['lulc_20_years_same']:\n",
    "        year_col = str(int(row['year']))\n",
    "        return row[year_col] if year_col in row else None\n",
    "    else:\n",
    "        return None\n",
    "\n",
    "recent_features['lulc_sampling_year'] = recent_features.apply(get_lulc_sampling_year, axis=1)\n",
    "\n",
    "print(recent_features.shape)\n",
    "print(recent_features.head())"
   ]
  },
  {
   "cell_type": "code",
   "execution_count": 15,
   "id": "b14b4a32",
   "metadata": {},
   "outputs": [
    {
     "data": {
      "text/html": [
       "\n",
       "            <style>\n",
       "                .geemap-dark {\n",
       "                    --jp-widgets-color: white;\n",
       "                    --jp-widgets-label-color: white;\n",
       "                    --jp-ui-font-color1: white;\n",
       "                    --jp-layout-color2: #454545;\n",
       "                    background-color: #383838;\n",
       "                }\n",
       "\n",
       "                .geemap-dark .jupyter-button {\n",
       "                    --jp-layout-color3: #383838;\n",
       "                }\n",
       "\n",
       "                .geemap-colab {\n",
       "                    background-color: var(--colab-primary-surface-color, white);\n",
       "                }\n",
       "\n",
       "                .geemap-colab .jupyter-button {\n",
       "                    --jp-layout-color3: var(--colab-primary-surface-color, white);\n",
       "                }\n",
       "            </style>\n",
       "            "
      ],
      "text/plain": [
       "<IPython.core.display.HTML object>"
      ]
     },
     "metadata": {},
     "output_type": "display_data"
    },
    {
     "name": "stdout",
     "output_type": "stream",
     "text": [
      "(2785, 49)\n",
      "    IFN_index  YEAR_index  1985  1986  1987  1988  1989  1990  1991  1992  \\\n",
      "4           0           0    12    12    12    12    12    12    12    12   \n",
      "6           0           0    12    12    12    12    12    12    12    12   \n",
      "7           0           0    12    12    12    12    12    12    12    12   \n",
      "9           0           0     3     3     3     3     3     3     3     3   \n",
      "10          0           0     3     3     3     3     3     3     3     3   \n",
      "\n",
      "    ...  2022  2023    coord_x    coord_y                   id  \\\n",
      "4   ...    12    12 -53.792947 -29.650838  ctb0003-sm-dnos-005   \n",
      "6   ...    12    12 -53.793272 -29.649962  ctb0003-sm-dnos-007   \n",
      "7   ...    12    12 -53.793633 -29.648468  ctb0003-sm-dnos-008   \n",
      "9   ...     3     3 -53.793019 -29.647970  ctb0003-sm-dnos-010   \n",
      "10  ...     3     3 -53.792816 -29.648040  ctb0003-sm-dnos-011   \n",
      "\n",
      "    soc_stock_g_m2  year                                      lulc_20_years  \\\n",
      "4             2738  2009  [12, 12, 12, 12, 12, 12, 12, 12, 12, 12, 12, 1...   \n",
      "6             3299  2009  [12, 12, 12, 12, 12, 12, 12, 12, 12, 12, 12, 1...   \n",
      "7             2311  2009  [12, 12, 12, 12, 12, 12, 12, 12, 12, 12, 12, 1...   \n",
      "9             3109  2009  [3, 3, 3, 3, 3, 3, 3, 3, 3, 3, 3, 3, 3, 3, 3, ...   \n",
      "10            1480  2009  [3, 3, 3, 3, 3, 3, 3, 3, 3, 3, 3, 3, 3, 3, 3, ...   \n",
      "\n",
      "    lulc_20_years_same  lulc_sampling_year  \n",
      "4                 True                12.0  \n",
      "6                 True                12.0  \n",
      "7                 True                12.0  \n",
      "9                 True                 3.0  \n",
      "10                True                 3.0  \n",
      "\n",
      "[5 rows x 49 columns]\n"
     ]
    }
   ],
   "source": [
    "# Keep only the features for which the LULC information for the 20 previous years is all the same\n",
    "recent_features_same_lulc = recent_features[recent_features['lulc_20_years_same']].copy()\n",
    "\n",
    "# Print the shape of the DataFrame with recent features with same LULC\n",
    "print(recent_features_same_lulc.shape)\n",
    "\n",
    "# Print the first 5 rows of the DataFrame with recent features with same LULC\n",
    "print(recent_features_same_lulc.head())"
   ]
  },
  {
   "cell_type": "code",
   "execution_count": 16,
   "id": "ad6d2c10",
   "metadata": {},
   "outputs": [
    {
     "data": {
      "text/html": [
       "\n",
       "            <style>\n",
       "                .geemap-dark {\n",
       "                    --jp-widgets-color: white;\n",
       "                    --jp-widgets-label-color: white;\n",
       "                    --jp-ui-font-color1: white;\n",
       "                    --jp-layout-color2: #454545;\n",
       "                    background-color: #383838;\n",
       "                }\n",
       "\n",
       "                .geemap-dark .jupyter-button {\n",
       "                    --jp-layout-color3: #383838;\n",
       "                }\n",
       "\n",
       "                .geemap-colab {\n",
       "                    background-color: var(--colab-primary-surface-color, white);\n",
       "                }\n",
       "\n",
       "                .geemap-colab .jupyter-button {\n",
       "                    --jp-layout-color3: var(--colab-primary-surface-color, white);\n",
       "                }\n",
       "            </style>\n",
       "            "
      ],
      "text/plain": [
       "<IPython.core.display.HTML object>"
      ]
     },
     "metadata": {},
     "output_type": "display_data"
    },
    {
     "name": "stdout",
     "output_type": "stream",
     "text": [
      "lulc_sampling_year\n",
      "3.0     973\n",
      "4.0     366\n",
      "6.0      17\n",
      "9.0      97\n",
      "11.0     14\n",
      "12.0    450\n",
      "15.0    546\n",
      "20.0     25\n",
      "21.0    130\n",
      "24.0     15\n",
      "25.0      4\n",
      "29.0     56\n",
      "30.0      1\n",
      "33.0     10\n",
      "39.0     46\n",
      "41.0     27\n",
      "46.0      2\n",
      "48.0      1\n",
      "49.0      5\n",
      "Name: count, dtype: int64\n"
     ]
    }
   ],
   "source": [
    "# Print a count of the LULC classes in the sampling year (sorted by LULC code)\n",
    "lulc_counts = recent_features_same_lulc['lulc_sampling_year'].value_counts().sort_index()\n",
    "print(lulc_counts)"
   ]
  },
  {
   "cell_type": "code",
   "execution_count": 18,
   "id": "b7b37250",
   "metadata": {},
   "outputs": [
    {
     "data": {
      "text/html": [
       "\n",
       "            <style>\n",
       "                .geemap-dark {\n",
       "                    --jp-widgets-color: white;\n",
       "                    --jp-widgets-label-color: white;\n",
       "                    --jp-ui-font-color1: white;\n",
       "                    --jp-layout-color2: #454545;\n",
       "                    background-color: #383838;\n",
       "                }\n",
       "\n",
       "                .geemap-dark .jupyter-button {\n",
       "                    --jp-layout-color3: #383838;\n",
       "                }\n",
       "\n",
       "                .geemap-colab {\n",
       "                    background-color: var(--colab-primary-surface-color, white);\n",
       "                }\n",
       "\n",
       "                .geemap-colab .jupyter-button {\n",
       "                    --jp-layout-color3: var(--colab-primary-surface-color, white);\n",
       "                }\n",
       "            </style>\n",
       "            "
      ],
      "text/plain": [
       "<IPython.core.display.HTML object>"
      ]
     },
     "metadata": {},
     "output_type": "display_data"
    },
    {
     "name": "stdout",
     "output_type": "stream",
     "text": [
      "(1881, 49)\n"
     ]
    }
   ],
   "source": [
    "# Keep only those features where the LULC class in the sampling year is:\n",
    "# 3: Forest Formation\n",
    "# 4: Savanna Formation\n",
    "# 6: Savanna Formation\n",
    "# 11: Wetland\n",
    "# 12: Grassland\n",
    "# 29: Rocky Outcrop\n",
    "# 49: Wooded Sandbank Vegetation\n",
    "\n",
    "# Keep LULC values as real numbers for comparison\n",
    "recent_features_same_lulc = recent_features_same_lulc.copy()\n",
    "lulc_to_keep = [3.0, 4.0, 6.0, 11.0, 12.0, 29.0, 49.0]\n",
    "\n",
    "recent_features_same_lulc = recent_features_same_lulc[\n",
    "    recent_features_same_lulc['lulc_sampling_year'].isin(lulc_to_keep)\n",
    "]\n",
    "\n",
    "# Print the shape of the DataFrame after keeping the selected LULC classes\n",
    "print(recent_features_same_lulc.shape)\n",
    "# Print the first 5 rows of the DataFrame after keeping the"
   ]
  },
  {
   "cell_type": "code",
   "execution_count": 20,
   "id": "69305f2c",
   "metadata": {},
   "outputs": [
    {
     "data": {
      "text/html": [
       "\n",
       "            <style>\n",
       "                .geemap-dark {\n",
       "                    --jp-widgets-color: white;\n",
       "                    --jp-widgets-label-color: white;\n",
       "                    --jp-ui-font-color1: white;\n",
       "                    --jp-layout-color2: #454545;\n",
       "                    background-color: #383838;\n",
       "                }\n",
       "\n",
       "                .geemap-dark .jupyter-button {\n",
       "                    --jp-layout-color3: #383838;\n",
       "                }\n",
       "\n",
       "                .geemap-colab {\n",
       "                    background-color: var(--colab-primary-surface-color, white);\n",
       "                }\n",
       "\n",
       "                .geemap-colab .jupyter-button {\n",
       "                    --jp-layout-color3: var(--colab-primary-surface-color, white);\n",
       "                }\n",
       "            </style>\n",
       "            "
      ],
      "text/plain": [
       "<IPython.core.display.HTML object>"
      ]
     },
     "metadata": {},
     "output_type": "display_data"
    },
    {
     "name": "stdout",
     "output_type": "stream",
     "text": [
      "lulc_sampling_year\n",
      "3.0     973\n",
      "4.0     366\n",
      "6.0      17\n",
      "11.0     14\n",
      "12.0    450\n",
      "29.0     56\n",
      "49.0      5\n",
      "Name: count, dtype: int64\n"
     ]
    }
   ],
   "source": [
    "# Print a count of the LULC classes in the sampling year\n",
    "lulc_class_counts = recent_features_same_lulc['lulc_sampling_year'].value_counts().sort_index()\n",
    "print(lulc_class_counts)"
   ]
  },
  {
   "cell_type": "code",
   "execution_count": 21,
   "id": "c237e2f7",
   "metadata": {},
   "outputs": [
    {
     "data": {
      "text/html": [
       "\n",
       "            <style>\n",
       "                .geemap-dark {\n",
       "                    --jp-widgets-color: white;\n",
       "                    --jp-widgets-label-color: white;\n",
       "                    --jp-ui-font-color1: white;\n",
       "                    --jp-layout-color2: #454545;\n",
       "                    background-color: #383838;\n",
       "                }\n",
       "\n",
       "                .geemap-dark .jupyter-button {\n",
       "                    --jp-layout-color3: #383838;\n",
       "                }\n",
       "\n",
       "                .geemap-colab {\n",
       "                    background-color: var(--colab-primary-surface-color, white);\n",
       "                }\n",
       "\n",
       "                .geemap-colab .jupyter-button {\n",
       "                    --jp-layout-color3: var(--colab-primary-surface-color, white);\n",
       "                }\n",
       "            </style>\n",
       "            "
      ],
      "text/plain": [
       "<IPython.core.display.HTML object>"
      ]
     },
     "metadata": {},
     "output_type": "display_data"
    },
    {
     "name": "stdout",
     "output_type": "stream",
     "text": [
      "year\n",
      "2005     24\n",
      "2006     47\n",
      "2007     55\n",
      "2008      6\n",
      "2009    435\n",
      "2010     64\n",
      "2011     86\n",
      "2012     21\n",
      "2013    231\n",
      "2014    502\n",
      "2015    213\n",
      "2016    165\n",
      "2017     20\n",
      "2018      2\n",
      "2023     10\n",
      "Name: count, dtype: int64\n"
     ]
    }
   ],
   "source": [
    "# Print a count of the sampling years\n",
    "sampling_year_counts = recent_features_same_lulc['year'].value_counts().sort_index()\n",
    "print(sampling_year_counts)"
   ]
  },
  {
   "cell_type": "code",
   "execution_count": null,
   "id": "9eedd165",
   "metadata": {},
   "outputs": [
    {
     "data": {
      "text/html": [
       "\n",
       "            <style>\n",
       "                .geemap-dark {\n",
       "                    --jp-widgets-color: white;\n",
       "                    --jp-widgets-label-color: white;\n",
       "                    --jp-ui-font-color1: white;\n",
       "                    --jp-layout-color2: #454545;\n",
       "                    background-color: #383838;\n",
       "                }\n",
       "\n",
       "                .geemap-dark .jupyter-button {\n",
       "                    --jp-layout-color3: #383838;\n",
       "                }\n",
       "\n",
       "                .geemap-colab {\n",
       "                    background-color: var(--colab-primary-surface-color, white);\n",
       "                }\n",
       "\n",
       "                .geemap-colab .jupyter-button {\n",
       "                    --jp-layout-color3: var(--colab-primary-surface-color, white);\n",
       "                }\n",
       "            </style>\n",
       "            "
      ],
      "text/plain": [
       "<IPython.core.display.HTML object>"
      ]
     },
     "metadata": {},
     "output_type": "display_data"
    },
    {
     "name": "stdout",
     "output_type": "stream",
     "text": [
      "The provided color (lightred) is invalid. Using the default black color.\n",
      "'#lightred' is not in web format. Need 3 or 6 hex digit.\n"
     ]
    },
    {
     "data": {
      "application/vnd.jupyter.widget-view+json": {
       "model_id": "436cc8a2505b479b8c772b071d1eb4b4",
       "version_major": 2,
       "version_minor": 0
      },
      "text/plain": [
       "Map(center=[-15, -55], controls=(WidgetControl(options=['position', 'transparent_bg'], widget=SearchDataGUI(ch…"
      ]
     },
     "execution_count": 23,
     "metadata": {},
     "output_type": "execute_result"
    }
   ],
   "source": [
    "# Plot the points on a map using geemap\n",
    "\n",
    "# Import necessary libraries for mapping\n",
    "import folium\n",
    "import geemap\n",
    "\n",
    "# Create the map centered on Brazil\n",
    "Map = geemap.Map(center=[-15, -55], zoom=4)\n",
    "Map.add_basemap('SATELLITE')\n",
    "\n",
    "# MapBiomas Collection 9 code-to-color mapping (only for selected stable LULC classes, keys as floats)\n",
    "lulc_code_to_color = {\n",
    "    3.0: \"#1f8d49\",   # Forest Formation\n",
    "    4.0: \"#7dc975\",   # Savanna Formation\n",
    "    6.0: \"#007785\",   # Wetland Forest\n",
    "    11.0: \"#519799\",  # Wetland\n",
    "    12.0: \"#d6bc74\",  # Grassland\n",
    "    29.0: \"#ffaa5f\",  # Rocky Outcrop\n",
    "    49.0: \"#02d659\"   # Wooded Sandbank Vegetation\n",
    "}\n",
    "\n",
    "# Ensure the LULC code column is float type for mapping\n",
    "recent_features_same_lulc = recent_features_same_lulc.copy()\n",
    "recent_features_same_lulc['lulc_sampling_year'] = recent_features_same_lulc['lulc_sampling_year'].astype(float)\n",
    "\n",
    "# Select only the columns needed for the map and popup\n",
    "columns_to_keep = [\"coord_x\", \"coord_y\", \"lulc_sampling_year\", \"id\", \"year\", \"soc_stock_g_m2\"]\n",
    "recent_features_map = recent_features_same_lulc[columns_to_keep].copy()\n",
    "recent_features_map = recent_features_map.reset_index(drop=True)\n",
    "\n",
    "# Plot points, color by LULC code, show only selected info in popup, no clustering\n",
    "Map.add_points_from_xy(\n",
    "    recent_features_map,\n",
    "    x=\"coord_x\",\n",
    "    y=\"coord_y\",\n",
    "    color_column=\"lulc_sampling_year\",\n",
    "    color_map=lulc_code_to_color,\n",
    "    layer_name=\"Stable LULC Sampling Year\",\n",
    "    marker_cluster=False,\n",
    "    info_columns=[\"lulc_sampling_year\", \"id\", \"year\", \"soc_stock_g_m2\"]\n",
    ")\n",
    "\n",
    "# Updated legend for only the selected stable LULC classes\n",
    "legend_labels = [\n",
    "    \"Forest Formation\",        # 3.0\n",
    "    \"Savanna Formation\",       # 4.0\n",
    "    \"Wetland Forest\",          # 6.0\n",
    "    \"Wetland\",                 # 11.0\n",
    "    \"Grassland\",               # 12.0\n",
    "    \"Rocky Outcrop\",           # 29.0\n",
    "    \"Wooded Sandbank Vegetation\" # 49.0\n",
    "]\n",
    "legend_colors = [\n",
    "    \"#1f8d49\",  # 3.0\n",
    "    \"#7dc975\",  # 4.0\n",
    "    \"#007785\",  # 6.0\n",
    "    \"#519799\",  # 11.0\n",
    "    \"#d6bc74\",  # 12.0\n",
    "    \"#ffaa5f\",  # 29.0\n",
    "    \"#02d659\"   # 49.0\n",
    "]\n",
    "\n",
    "Map.add_legend(\n",
    "    title='Stable LULC Classes (MapBiomas)',\n",
    "    labels=legend_labels,\n",
    "    colors=legend_colors\n",
    ")\n",
    "Map"
   ]
  },
  {
   "cell_type": "markdown",
   "id": "46e5cfe2",
   "metadata": {},
   "source": [
    "## Distance from anthropogenic areas"
   ]
  },
  {
   "cell_type": "code",
   "execution_count": 26,
   "id": "812714b5",
   "metadata": {},
   "outputs": [
    {
     "data": {
      "text/html": [
       "\n",
       "            <style>\n",
       "                .geemap-dark {\n",
       "                    --jp-widgets-color: white;\n",
       "                    --jp-widgets-label-color: white;\n",
       "                    --jp-ui-font-color1: white;\n",
       "                    --jp-layout-color2: #454545;\n",
       "                    background-color: #383838;\n",
       "                }\n",
       "\n",
       "                .geemap-dark .jupyter-button {\n",
       "                    --jp-layout-color3: #383838;\n",
       "                }\n",
       "\n",
       "                .geemap-colab {\n",
       "                    background-color: var(--colab-primary-surface-color, white);\n",
       "                }\n",
       "\n",
       "                .geemap-colab .jupyter-button {\n",
       "                    --jp-layout-color3: var(--colab-primary-surface-color, white);\n",
       "                }\n",
       "            </style>\n",
       "            "
      ],
      "text/plain": [
       "<IPython.core.display.HTML object>"
      ]
     },
     "metadata": {},
     "output_type": "display_data"
    },
    {
     "name": "stdout",
     "output_type": "stream",
     "text": [
      "(1881, 8)\n",
      "                    id    coord_x    coord_y  year  soc_stock_g_m2  \\\n",
      "0  ctb0003-sm-dnos-005 -53.792947 -29.650838  2009            2738   \n",
      "1  ctb0003-sm-dnos-007 -53.793272 -29.649962  2009            3299   \n",
      "2  ctb0003-sm-dnos-008 -53.793633 -29.648468  2009            2311   \n",
      "3  ctb0003-sm-dnos-010 -53.793019 -29.647970  2009            3109   \n",
      "4  ctb0003-sm-dnos-011 -53.792816 -29.648040  2009            1480   \n",
      "\n",
      "   lulc_sampling_year  IFN_index  YEAR_index  \n",
      "0                12.0          0           0  \n",
      "1                12.0          0           0  \n",
      "2                12.0          0           0  \n",
      "3                 3.0          0           0  \n",
      "4                 3.0          0           0  \n"
     ]
    }
   ],
   "source": [
    "# Clean the data frame, keeping only the relevant columns\n",
    "# id coord_x coord_y year soc_stock_g_m2 lulc_sampling_year IFN_index YEAR_index\n",
    "columns_to_keep = [\n",
    "    \"id\", \"coord_x\", \"coord_y\", \"year\", \"soc_stock_g_m2\", \"lulc_sampling_year\", \"IFN_index\", \"YEAR_index\"\n",
    "]\n",
    "recent_features_cleaned = recent_features_same_lulc[columns_to_keep].copy()\n",
    "# Reset the index of the cleaned DataFrame\n",
    "recent_features_cleaned = recent_features_cleaned.reset_index(drop=True)\n",
    "# Print the shape of the cleaned DataFrame\n",
    "print(recent_features_cleaned.shape)\n",
    "# Print the first 5 rows of the cleaned DataFrame\n",
    "print(recent_features_cleaned.head())\n"
   ]
  },
  {
   "cell_type": "code",
   "execution_count": 27,
   "id": "055bc62a",
   "metadata": {},
   "outputs": [
    {
     "data": {
      "text/html": [
       "\n",
       "            <style>\n",
       "                .geemap-dark {\n",
       "                    --jp-widgets-color: white;\n",
       "                    --jp-widgets-label-color: white;\n",
       "                    --jp-ui-font-color1: white;\n",
       "                    --jp-layout-color2: #454545;\n",
       "                    background-color: #383838;\n",
       "                }\n",
       "\n",
       "                .geemap-dark .jupyter-button {\n",
       "                    --jp-layout-color3: #383838;\n",
       "                }\n",
       "\n",
       "                .geemap-colab {\n",
       "                    background-color: var(--colab-primary-surface-color, white);\n",
       "                }\n",
       "\n",
       "                .geemap-colab .jupyter-button {\n",
       "                    --jp-layout-color3: var(--colab-primary-surface-color, white);\n",
       "                }\n",
       "            </style>\n",
       "            "
      ],
      "text/plain": [
       "<IPython.core.display.HTML object>"
      ]
     },
     "metadata": {},
     "output_type": "display_data"
    },
    {
     "name": "stdout",
     "output_type": "stream",
     "text": [
      "1881 features\n",
      "2 chunks\n"
     ]
    }
   ],
   "source": [
    "# Convert DataFrame to Earth Engine Feature Collection\n",
    "stable_fc = geemap.df_to_ee(recent_features_cleaned, latitude = 'coord_y', longitude = 'coord_x')\n",
    "print(stable_fc.size().getInfo(), 'features')\n",
    "\n",
    "# Function to split a feature collection (sampling points) into chunks\n",
    "def split_sampling_points(fc, chunk_size):\n",
    "    features = fc.toList(fc.size())\n",
    "    chunks = [features.slice(i, i + chunk_size) for i in range(0, features.size().getInfo(), chunk_size)]\n",
    "    return [ee.FeatureCollection(chunk) for chunk in chunks]\n",
    "\n",
    "# Split the sample points into subsets of 1000 points each\n",
    "# This is necessary to avoid timeout errors\n",
    "chunk_size = 1000\n",
    "stable_chunks = split_sampling_points(stable_fc, chunk_size)\n",
    "print(len(stable_chunks), 'chunks')"
   ]
  },
  {
   "cell_type": "code",
   "execution_count": null,
   "id": "6fe3d7a4",
   "metadata": {},
   "outputs": [
    {
     "data": {
      "text/html": [
       "\n",
       "            <style>\n",
       "                .geemap-dark {\n",
       "                    --jp-widgets-color: white;\n",
       "                    --jp-widgets-label-color: white;\n",
       "                    --jp-ui-font-color1: white;\n",
       "                    --jp-layout-color2: #454545;\n",
       "                    background-color: #383838;\n",
       "                }\n",
       "\n",
       "                .geemap-dark .jupyter-button {\n",
       "                    --jp-layout-color3: #383838;\n",
       "                }\n",
       "\n",
       "                .geemap-colab {\n",
       "                    background-color: var(--colab-primary-surface-color, white);\n",
       "                }\n",
       "\n",
       "                .geemap-colab .jupyter-button {\n",
       "                    --jp-layout-color3: var(--colab-primary-surface-color, white);\n",
       "                }\n",
       "            </style>\n",
       "            "
      ],
      "text/plain": [
       "<IPython.core.display.HTML object>"
      ]
     },
     "metadata": {},
     "output_type": "display_data"
    },
    {
     "name": "stdout",
     "output_type": "stream",
     "text": [
      "(1881, 47)\n",
      "   IFN_index  YEAR_index    coord_x    coord_y  1985  1986  1987  1988  1989  \\\n",
      "0          0           0 -53.792947 -29.650838     5     5     5     5     5   \n",
      "1          0           0 -53.793272 -29.649962     6     6     6     6     6   \n",
      "2          0           0 -53.793633 -29.648468     6     6     6     6     6   \n",
      "3          0           0 -53.793019 -29.647970     4     4     4     4     4   \n",
      "4          0           0 -53.792816 -29.648040     3     5     3     3     3   \n",
      "\n",
      "   1990  ...  2018  2019  2020  2021  2022  2023                   id  \\\n",
      "0     5  ...     5     2     2     2     2     2  ctb0003-sm-dnos-005   \n",
      "1     6  ...     6     6     6     6     6     6  ctb0003-sm-dnos-007   \n",
      "2     6  ...     6     6     6     6     6     6  ctb0003-sm-dnos-008   \n",
      "3     4  ...     4     3     3     4     4     4  ctb0003-sm-dnos-010   \n",
      "4     3  ...     3     3     3     3     3     3  ctb0003-sm-dnos-011   \n",
      "\n",
      "   lulc_sampling_year  soc_stock_g_m2  year  \n",
      "0                  12            2738  2009  \n",
      "1                  12            3299  2009  \n",
      "2                  12            2311  2009  \n",
      "3                   3            3109  2009  \n",
      "4                   3            1480  2009  \n",
      "\n",
      "[5 rows x 47 columns]\n"
     ]
    }
   ],
   "source": [
    "# (this takes a few seconds to run)\n",
    "\n",
    "# MapBiomas Degradation\n",
    "\n",
    "# Import the MapBiomas Degradation Collection Beta\n",
    "collection = 'projects/mapbiomas-workspace/SOLOS/COVARIAVEIS/MB_DEGRADATION_BETA_SUMMED_EDGES'\n",
    "edges_image = ee.Image(collection)\n",
    "\n",
    "# Initialize an empty list to store DataFrames\n",
    "dataframes = []\n",
    "\n",
    "# Loop over each subset and sample the data\n",
    "for chunk in stable_chunks:\n",
    "    sampled_points = geemap.extract_values_to_points(chunk, edges_image, scale=30)\n",
    "    sampled_df = geemap.ee_to_df(sampled_points)\n",
    "    dataframes.append(sampled_df)\n",
    "# Concatenate all DataFrames into a single DataFrame\n",
    "mapbiomas_degradation_df = pd.concat(dataframes, ignore_index=True)\n",
    "# Rename columns\n",
    "mapbiomas_degradation_df.columns = mapbiomas_degradation_df.columns.str.replace('edge_sum_', '')\n",
    "\n",
    "# Print the shape of the sampled DataFrame\n",
    "print(mapbiomas_degradation_df.shape)\n",
    "# Print the first 5 rows of the sampled DataFrame\n",
    "print(mapbiomas_degradation_df.head())"
   ]
  },
  {
   "cell_type": "code",
   "execution_count": 31,
   "id": "f22e8ac5",
   "metadata": {},
   "outputs": [
    {
     "data": {
      "text/html": [
       "\n",
       "            <style>\n",
       "                .geemap-dark {\n",
       "                    --jp-widgets-color: white;\n",
       "                    --jp-widgets-label-color: white;\n",
       "                    --jp-ui-font-color1: white;\n",
       "                    --jp-layout-color2: #454545;\n",
       "                    background-color: #383838;\n",
       "                }\n",
       "\n",
       "                .geemap-dark .jupyter-button {\n",
       "                    --jp-layout-color3: #383838;\n",
       "                }\n",
       "\n",
       "                .geemap-colab {\n",
       "                    background-color: var(--colab-primary-surface-color, white);\n",
       "                }\n",
       "\n",
       "                .geemap-colab .jupyter-button {\n",
       "                    --jp-layout-color3: var(--colab-primary-surface-color, white);\n",
       "                }\n",
       "            </style>\n",
       "            "
      ],
      "text/plain": [
       "<IPython.core.display.HTML object>"
      ]
     },
     "metadata": {},
     "output_type": "display_data"
    },
    {
     "name": "stdout",
     "output_type": "stream",
     "text": [
      "(1881, 48)\n",
      "   IFN_index  YEAR_index    coord_x    coord_y  1985  1986  1987  1988  1989  \\\n",
      "0          0           0 -53.792947 -29.650838     5     5     5     5     5   \n",
      "1          0           0 -53.793272 -29.649962     6     6     6     6     6   \n",
      "2          0           0 -53.793633 -29.648468     6     6     6     6     6   \n",
      "3          0           0 -53.793019 -29.647970     4     4     4     4     4   \n",
      "4          0           0 -53.792816 -29.648040     3     5     3     3     3   \n",
      "\n",
      "   1990  ...  2019  2020  2021  2022  2023                   id  \\\n",
      "0     5  ...     2     2     2     2     2  ctb0003-sm-dnos-005   \n",
      "1     6  ...     6     6     6     6     6  ctb0003-sm-dnos-007   \n",
      "2     6  ...     6     6     6     6     6  ctb0003-sm-dnos-008   \n",
      "3     4  ...     3     3     4     4     4  ctb0003-sm-dnos-010   \n",
      "4     3  ...     3     3     3     3     3  ctb0003-sm-dnos-011   \n",
      "\n",
      "   lulc_sampling_year  soc_stock_g_m2  year  degradation_sampling_year  \n",
      "0                  12            2738  2009                          5  \n",
      "1                  12            3299  2009                          5  \n",
      "2                  12            2311  2009                          6  \n",
      "3                   3            3109  2009                          5  \n",
      "4                   3            1480  2009                          4  \n",
      "\n",
      "[5 rows x 48 columns]\n"
     ]
    }
   ],
   "source": [
    "# For each feature, retrieve the degradation information for the sampling year\n",
    "def get_degradation_sampling_year(row):\n",
    "    year_col = str(int(row['year']))\n",
    "    return row[year_col] if year_col in row else None\n",
    "\n",
    "mapbiomas_degradation_df['degradation_sampling_year'] = mapbiomas_degradation_df.apply(get_degradation_sampling_year, axis=1)\n",
    "\n",
    "# Keep only the features for which the degradation information is not null\n",
    "stable_degradation = mapbiomas_degradation_df[mapbiomas_degradation_df['degradation_sampling_year'].notnull()].copy()\n",
    "# Print the shape of the DataFrame with stable features with degradation information\n",
    "print(stable_degradation.shape)\n",
    "# Print the first 5 rows of the DataFrame with stable features with degradation information\n",
    "print(stable_degradation.head())"
   ]
  },
  {
   "cell_type": "code",
   "execution_count": 35,
   "id": "7628f4ee",
   "metadata": {},
   "outputs": [
    {
     "data": {
      "text/html": [
       "\n",
       "            <style>\n",
       "                .geemap-dark {\n",
       "                    --jp-widgets-color: white;\n",
       "                    --jp-widgets-label-color: white;\n",
       "                    --jp-ui-font-color1: white;\n",
       "                    --jp-layout-color2: #454545;\n",
       "                    background-color: #383838;\n",
       "                }\n",
       "\n",
       "                .geemap-dark .jupyter-button {\n",
       "                    --jp-layout-color3: #383838;\n",
       "                }\n",
       "\n",
       "                .geemap-colab {\n",
       "                    background-color: var(--colab-primary-surface-color, white);\n",
       "                }\n",
       "\n",
       "                .geemap-colab .jupyter-button {\n",
       "                    --jp-layout-color3: var(--colab-primary-surface-color, white);\n",
       "                }\n",
       "            </style>\n",
       "            "
      ],
      "text/plain": [
       "<IPython.core.display.HTML object>"
      ]
     },
     "metadata": {},
     "output_type": "display_data"
    },
    {
     "name": "stdout",
     "output_type": "stream",
     "text": [
      "(586, 48)\n",
      "     IFN_index  YEAR_index    coord_x    coord_y  1985  1986  1987  1988  \\\n",
      "43           0           0 -53.807537 -29.652779     0     0     0     0   \n",
      "78           0           0 -53.807366 -29.653931     1     1     1     1   \n",
      "259          0           0 -53.583600 -29.826100     0     0     0     5   \n",
      "269          0           0 -53.935600 -29.700500     4     4     3     0   \n",
      "270          0           0 -53.935300 -29.703100     1     1     0     0   \n",
      "\n",
      "     1989  1990  ...  2019  2020  2021  2022  2023                   id  \\\n",
      "43      0     0  ...     0     0     0     0     0  ctb0003-sm-dnos-063   \n",
      "78      1     1  ...     1     1     1     1     1  ctb0003-sm-dnos-113   \n",
      "259     5     5  ...     0     0     0     0     0      ctb0006-obs_126   \n",
      "269     0     1  ...     4     4     4     4     4      ctb0006-obs_151   \n",
      "270     0     0  ...     0     0     1     1     1      ctb0006-obs_152   \n",
      "\n",
      "     lulc_sampling_year  soc_stock_g_m2  year  degradation_sampling_year  \n",
      "43                   12            3629  2009                          0  \n",
      "78                    3            3542  2009                          0  \n",
      "259                  12            4704  2014                          0  \n",
      "269                   3            2614  2014                          0  \n",
      "270                   3            2631  2014                          0  \n",
      "\n",
      "[5 rows x 48 columns]\n"
     ]
    }
   ],
   "source": [
    "# Filter out features with degradation values equal to zero\n",
    "stable_degradation = stable_degradation[stable_degradation['degradation_sampling_year'] == 0].copy()\n",
    "# Print the shape of the DataFrame after filtering out features with degradation values greater than 0\n",
    "print(stable_degradation.shape)\n",
    "# Print the first 5 rows of the DataFrame after filtering out features with degradation values greater than 0\n",
    "print(stable_degradation.head())"
   ]
  },
  {
   "cell_type": "code",
   "execution_count": 36,
   "id": "db071f25",
   "metadata": {},
   "outputs": [
    {
     "data": {
      "text/html": [
       "\n",
       "            <style>\n",
       "                .geemap-dark {\n",
       "                    --jp-widgets-color: white;\n",
       "                    --jp-widgets-label-color: white;\n",
       "                    --jp-ui-font-color1: white;\n",
       "                    --jp-layout-color2: #454545;\n",
       "                    background-color: #383838;\n",
       "                }\n",
       "\n",
       "                .geemap-dark .jupyter-button {\n",
       "                    --jp-layout-color3: #383838;\n",
       "                }\n",
       "\n",
       "                .geemap-colab {\n",
       "                    background-color: var(--colab-primary-surface-color, white);\n",
       "                }\n",
       "\n",
       "                .geemap-colab .jupyter-button {\n",
       "                    --jp-layout-color3: var(--colab-primary-surface-color, white);\n",
       "                }\n",
       "            </style>\n",
       "            "
      ],
      "text/plain": [
       "<IPython.core.display.HTML object>"
      ]
     },
     "metadata": {},
     "output_type": "display_data"
    },
    {
     "name": "stdout",
     "output_type": "stream",
     "text": [
      "(586, 9)\n",
      "                    id    coord_x    coord_y  year  soc_stock_g_m2  \\\n",
      "0  ctb0003-sm-dnos-063 -53.807537 -29.652779  2009            3629   \n",
      "1  ctb0003-sm-dnos-113 -53.807366 -29.653931  2009            3542   \n",
      "2      ctb0006-obs_126 -53.583600 -29.826100  2014            4704   \n",
      "3      ctb0006-obs_151 -53.935600 -29.700500  2014            2614   \n",
      "4      ctb0006-obs_152 -53.935300 -29.703100  2014            2631   \n",
      "\n",
      "   lulc_sampling_year  degradation_sampling_year  IFN_index  YEAR_index  \n",
      "0                  12                          0          0           0  \n",
      "1                   3                          0          0           0  \n",
      "2                  12                          0          0           0  \n",
      "3                   3                          0          0           0  \n",
      "4                   3                          0          0           0  \n"
     ]
    }
   ],
   "source": [
    "# Clean up the DataFrame by removing unnecessary columns\n",
    "stable_degradation_cleaned = stable_degradation[['id', 'coord_x', 'coord_y', 'year', 'soc_stock_g_m2', 'lulc_sampling_year', 'degradation_sampling_year', 'IFN_index', 'YEAR_index']].copy()\n",
    "# Reset the index of the cleaned DataFrame\n",
    "stable_degradation_cleaned = stable_degradation_cleaned.reset_index(drop=True)\n",
    "# Print the shape of the cleaned DataFrame\n",
    "print(stable_degradation_cleaned.shape)\n",
    "# Print the first 5 rows of the cleaned DataFrame\n",
    "print(stable_degradation_cleaned.head())"
   ]
  },
  {
   "cell_type": "code",
   "execution_count": 37,
   "id": "ff63e017",
   "metadata": {},
   "outputs": [
    {
     "data": {
      "text/html": [
       "\n",
       "            <style>\n",
       "                .geemap-dark {\n",
       "                    --jp-widgets-color: white;\n",
       "                    --jp-widgets-label-color: white;\n",
       "                    --jp-ui-font-color1: white;\n",
       "                    --jp-layout-color2: #454545;\n",
       "                    background-color: #383838;\n",
       "                }\n",
       "\n",
       "                .geemap-dark .jupyter-button {\n",
       "                    --jp-layout-color3: #383838;\n",
       "                }\n",
       "\n",
       "                .geemap-colab {\n",
       "                    background-color: var(--colab-primary-surface-color, white);\n",
       "                }\n",
       "\n",
       "                .geemap-colab .jupyter-button {\n",
       "                    --jp-layout-color3: var(--colab-primary-surface-color, white);\n",
       "                }\n",
       "            </style>\n",
       "            "
      ],
      "text/plain": [
       "<IPython.core.display.HTML object>"
      ]
     },
     "metadata": {},
     "output_type": "display_data"
    },
    {
     "name": "stdout",
     "output_type": "stream",
     "text": [
      "The provided color (lightred) is invalid. Using the default black color.\n",
      "'#lightred' is not in web format. Need 3 or 6 hex digit.\n"
     ]
    },
    {
     "data": {
      "application/vnd.jupyter.widget-view+json": {
       "model_id": "f8541eefd49e44169f204c31006b7e71",
       "version_major": 2,
       "version_minor": 0
      },
      "text/plain": [
       "Map(center=[-15, -55], controls=(WidgetControl(options=['position', 'transparent_bg'], widget=SearchDataGUI(ch…"
      ]
     },
     "execution_count": 37,
     "metadata": {},
     "output_type": "execute_result"
    }
   ],
   "source": [
    "# Plot the points on a map using geemap (use the same map as before)\n",
    "# Create the map centered on Brazil\n",
    "Map = geemap.Map(center=[-15, -55], zoom=4)\n",
    "Map.add_basemap('SATELLITE')\n",
    "\n",
    "# Color coding based on LULC code\n",
    "lulc_code_to_color = {\n",
    "    3.0: \"#1f8d49\",   # Forest Formation\n",
    "    4.0: \"#7dc975\",   # Savanna Formation\n",
    "    6.0: \"#007785\",   # Wetland Forest\n",
    "    11.0: \"#519799\",  # Wetland\n",
    "    12.0: \"#d6bc74\",  # Grassland\n",
    "    29.0: \"#ffaa5f\",  # Rocky Outcrop\n",
    "    49.0: \"#02d659\"   # Wooded Sandbank Vegetation\n",
    "}\n",
    "# Ensure the LULC code column is float type for mapping\n",
    "stable_degradation_cleaned = stable_degradation_cleaned.copy()\n",
    "stable_degradation_cleaned['lulc_sampling_year'] = stable_degradation_cleaned['lulc_sampling_year'].astype(float)\n",
    "# Plot points, color by LULC code, show only selected info in popup, no clustering\n",
    "Map.add_points_from_xy(\n",
    "    stable_degradation_cleaned,\n",
    "    x=\"coord_x\",\n",
    "    y=\"coord_y\",\n",
    "    color_column=\"lulc_sampling_year\",\n",
    "    color_map=lulc_code_to_color,\n",
    "    layer_name=\"Stable Degradation Sampling Year\",\n",
    "    marker_cluster=False,\n",
    "    info_columns=[\"lulc_sampling_year\", \"id\", \"year\", \"soc_stock_g_m2\", \"degradation_sampling_year\"]\n",
    ")\n",
    "# Updated legend for only the selected stable LULC classes\n",
    "legend_labels = [\n",
    "    \"Forest Formation\",        # 3.0\n",
    "    \"Savanna Formation\",       # 4.0\n",
    "    \"Wetland Forest\",          # 6.0\n",
    "    \"Wetland\",                 # 11.0\n",
    "    \"Grassland\",               # 12.0\n",
    "    \"Rocky Outcrop\",           # 29.0\n",
    "    \"Wooded Sandbank Vegetation\" # 49.0\n",
    "]\n",
    "legend_colors = [\n",
    "    \"#1f8d49\",  # 3.0\n",
    "    \"#7dc975\",  # 4.0\n",
    "    \"#007785\",  # 6.0\n",
    "    \"#519799\",  # 11.0\n",
    "    \"#d6bc74\",  # 12.0\n",
    "    \"#ffaa5f\",  # 29.0\n",
    "    \"#02d659\"   # 49.0\n",
    "]\n",
    "Map.add_legend(\n",
    "    title='Stable LULC Classes (MapBiomas)',\n",
    "    labels=legend_labels,\n",
    "    colors=legend_colors\n",
    ")\n",
    "# Display the mapbiomas_degradation_df\n",
    "Map"
   ]
  },
  {
   "cell_type": "markdown",
   "id": "ce5fd123",
   "metadata": {},
   "source": [
    "## Replicate points in stable LULC\n"
   ]
  },
  {
   "cell_type": "code",
   "execution_count": 39,
   "id": "7db5b9e5",
   "metadata": {},
   "outputs": [
    {
     "data": {
      "text/html": [
       "\n",
       "            <style>\n",
       "                .geemap-dark {\n",
       "                    --jp-widgets-color: white;\n",
       "                    --jp-widgets-label-color: white;\n",
       "                    --jp-ui-font-color1: white;\n",
       "                    --jp-layout-color2: #454545;\n",
       "                    background-color: #383838;\n",
       "                }\n",
       "\n",
       "                .geemap-dark .jupyter-button {\n",
       "                    --jp-layout-color3: #383838;\n",
       "                }\n",
       "\n",
       "                .geemap-colab {\n",
       "                    background-color: var(--colab-primary-surface-color, white);\n",
       "                }\n",
       "\n",
       "                .geemap-colab .jupyter-button {\n",
       "                    --jp-layout-color3: var(--colab-primary-surface-color, white);\n",
       "                }\n",
       "            </style>\n",
       "            "
      ],
      "text/plain": [
       "<IPython.core.display.HTML object>"
      ]
     },
     "metadata": {},
     "output_type": "display_data"
    },
    {
     "name": "stdout",
     "output_type": "stream",
     "text": [
      "(11134, 9)\n",
      "                          id    coord_x    coord_y  year  soc_stock_g_m2  \\\n",
      "0  ctb0003-sm-dnos-063-TREP1 -53.807537 -29.652779  2009            3629   \n",
      "1  ctb0003-sm-dnos-113-TREP1 -53.807366 -29.653931  2009            3542   \n",
      "2      ctb0006-obs_126-TREP1 -53.583600 -29.826100  2014            4704   \n",
      "3      ctb0006-obs_151-TREP1 -53.935600 -29.700500  2014            2614   \n",
      "4      ctb0006-obs_152-TREP1 -53.935300 -29.703100  2014            2631   \n",
      "\n",
      "   lulc_sampling_year  degradation_sampling_year  IFN_index  YEAR_index  \n",
      "0                12.0                          0          0           0  \n",
      "1                 3.0                          0          0           0  \n",
      "2                12.0                          0          0           0  \n",
      "3                 3.0                          0          0           0  \n",
      "4                 3.0                          0          0           0  \n"
     ]
    }
   ],
   "source": [
    "# Create 19 copies of stable_degradation_cleaned, each of the i copies with the year updated to the sampling year - i\n",
    "stable_degradation_copies = []\n",
    "for i in range(19):\n",
    "    copy = stable_degradation_cleaned.copy()\n",
    "    copy['year'] = copy['year'] - i\n",
    "    copy['id'] = copy['id'].astype(str) + f\"-TREP{i+1}\"\n",
    "    stable_degradation_copies.append(copy)\n",
    "# Concatenate all copies into a single DataFrame\n",
    "stable_degradation_all_years = pd.concat(stable_degradation_copies, ignore_index=True)\n",
    "# Print the shape of the DataFrame with all years\n",
    "print(stable_degradation_all_years.shape)\n",
    "# Print the first 5 rows of the DataFrame with all\n",
    "print(stable_degradation_all_years.head())"
   ]
  },
  {
   "cell_type": "markdown",
   "id": "2c66f468",
   "metadata": {},
   "source": [
    "## Merge stable LULC points with original points"
   ]
  },
  {
   "cell_type": "code",
   "execution_count": 40,
   "id": "d5a728b5",
   "metadata": {},
   "outputs": [
    {
     "data": {
      "text/html": [
       "\n",
       "            <style>\n",
       "                .geemap-dark {\n",
       "                    --jp-widgets-color: white;\n",
       "                    --jp-widgets-label-color: white;\n",
       "                    --jp-ui-font-color1: white;\n",
       "                    --jp-layout-color2: #454545;\n",
       "                    background-color: #383838;\n",
       "                }\n",
       "\n",
       "                .geemap-dark .jupyter-button {\n",
       "                    --jp-layout-color3: #383838;\n",
       "                }\n",
       "\n",
       "                .geemap-colab {\n",
       "                    background-color: var(--colab-primary-surface-color, white);\n",
       "                }\n",
       "\n",
       "                .geemap-colab .jupyter-button {\n",
       "                    --jp-layout-color3: var(--colab-primary-surface-color, white);\n",
       "                }\n",
       "            </style>\n",
       "            "
      ],
      "text/plain": [
       "<IPython.core.display.HTML object>"
      ]
     },
     "metadata": {},
     "output_type": "display_data"
    },
    {
     "name": "stdout",
     "output_type": "stream",
     "text": [
      "(11134, 7)\n",
      "                          id    coord_x    coord_y  year  soc_stock_g_m2  \\\n",
      "0  ctb0003-sm-dnos-063-TREP1 -53.807537 -29.652779  2009            3629   \n",
      "1  ctb0003-sm-dnos-113-TREP1 -53.807366 -29.653931  2009            3542   \n",
      "2      ctb0006-obs_126-TREP1 -53.583600 -29.826100  2014            4704   \n",
      "3      ctb0006-obs_151-TREP1 -53.935600 -29.700500  2014            2614   \n",
      "4      ctb0006-obs_152-TREP1 -53.935300 -29.703100  2014            2631   \n",
      "\n",
      "   IFN_index  YEAR_index  \n",
      "0          0           0  \n",
      "1          0           0  \n",
      "2          0           0  \n",
      "3          0           0  \n",
      "4          0           0  \n"
     ]
    }
   ],
   "source": [
    "# Clean up the DataFrame by removing unnecessary columns\n",
    "stable_degradation_all_years = stable_degradation_all_years[['id', 'coord_x', 'coord_y', 'year', 'soc_stock_g_m2', 'IFN_index', 'YEAR_index']].copy()\n",
    "# Reset the index of the cleaned DataFrame\n",
    "stable_degradation_all_years = stable_degradation_all_years.reset_index(drop=True)\n",
    "# Print the shape of the cleaned DataFrame\n",
    "print(stable_degradation_all_years.shape)\n",
    "# Print the first 5 rows of the cleaned DataFrame\n",
    "print(stable_degradation_all_years.head())"
   ]
  },
  {
   "cell_type": "code",
   "execution_count": 44,
   "id": "2a1aa933",
   "metadata": {},
   "outputs": [
    {
     "data": {
      "text/html": [
       "\n",
       "            <style>\n",
       "                .geemap-dark {\n",
       "                    --jp-widgets-color: white;\n",
       "                    --jp-widgets-label-color: white;\n",
       "                    --jp-ui-font-color1: white;\n",
       "                    --jp-layout-color2: #454545;\n",
       "                    background-color: #383838;\n",
       "                }\n",
       "\n",
       "                .geemap-dark .jupyter-button {\n",
       "                    --jp-layout-color3: #383838;\n",
       "                }\n",
       "\n",
       "                .geemap-colab {\n",
       "                    background-color: var(--colab-primary-surface-color, white);\n",
       "                }\n",
       "\n",
       "                .geemap-colab .jupyter-button {\n",
       "                    --jp-layout-color3: var(--colab-primary-surface-color, white);\n",
       "                }\n",
       "            </style>\n",
       "            "
      ],
      "text/plain": [
       "<IPython.core.display.HTML object>"
      ]
     },
     "metadata": {},
     "output_type": "display_data"
    },
    {
     "name": "stdout",
     "output_type": "stream",
     "text": [
      "(23800, 7)\n",
      "                    id    coord_x    coord_y  year  soc_stock_g_m2  IFN_index  \\\n",
      "0  ctb0003-sm-dnos-001 -53.794645 -29.651271  2009            1341          0   \n",
      "1  ctb0003-sm-dnos-002 -53.793987 -29.650564  2009            2246          0   \n",
      "2  ctb0003-sm-dnos-003 -53.793993 -29.650232  2009            2340          0   \n",
      "3  ctb0003-sm-dnos-004 -53.794345 -29.650311  2009            3933          0   \n",
      "4  ctb0003-sm-dnos-005 -53.792947 -29.650838  2009            2738          0   \n",
      "\n",
      "   YEAR_index  \n",
      "0           0  \n",
      "1           0  \n",
      "2           0  \n",
      "3           0  \n",
      "4           0  \n"
     ]
    }
   ],
   "source": [
    "# Stack stable_degradation_all_years and soildata\n",
    "stacked_data = pd.concat([soildata, stable_degradation_all_years], ignore_index=True)\n",
    "# Sort by 'id'\n",
    "stacked_data = stacked_data.sort_values(by='id').reset_index(drop=True)\n",
    "# Print the shape of the stacked DataFrame\n",
    "print(stacked_data.shape)\n",
    "# Print the first 5 rows of the stacked DataFrame\n",
    "print(stacked_data.head())"
   ]
  },
  {
   "cell_type": "code",
   "execution_count": null,
   "id": "4f83e309",
   "metadata": {},
   "outputs": [
    {
     "data": {
      "text/html": [
       "\n",
       "            <style>\n",
       "                .geemap-dark {\n",
       "                    --jp-widgets-color: white;\n",
       "                    --jp-widgets-label-color: white;\n",
       "                    --jp-ui-font-color1: white;\n",
       "                    --jp-layout-color2: #454545;\n",
       "                    background-color: #383838;\n",
       "                }\n",
       "\n",
       "                .geemap-dark .jupyter-button {\n",
       "                    --jp-layout-color3: #383838;\n",
       "                }\n",
       "\n",
       "                .geemap-colab {\n",
       "                    background-color: var(--colab-primary-surface-color, white);\n",
       "                }\n",
       "\n",
       "                .geemap-colab .jupyter-button {\n",
       "                    --jp-layout-color3: var(--colab-primary-surface-color, white);\n",
       "                }\n",
       "            </style>\n",
       "            "
      ],
      "text/plain": [
       "<IPython.core.display.HTML object>"
      ]
     },
     "metadata": {},
     "output_type": "display_data"
    }
   ],
   "source": [
    "# Save the cleaned DataFrame to a CSV file\n",
    "import pandas as pd\n",
    "output_file = os.path.join(work_dir, 'data', '41_soildata_soc.txt')\n",
    "stacked_data.to_csv(output_file, sep='\\t', index=False)"
   ]
  },
  {
   "cell_type": "markdown",
   "id": "564f35e8",
   "metadata": {},
   "source": [
    "## Export to Google Earth Engine"
   ]
  },
  {
   "cell_type": "code",
   "execution_count": 48,
   "id": "fe2a54e5",
   "metadata": {},
   "outputs": [
    {
     "data": {
      "text/html": [
       "\n",
       "            <style>\n",
       "                .geemap-dark {\n",
       "                    --jp-widgets-color: white;\n",
       "                    --jp-widgets-label-color: white;\n",
       "                    --jp-ui-font-color1: white;\n",
       "                    --jp-layout-color2: #454545;\n",
       "                    background-color: #383838;\n",
       "                }\n",
       "\n",
       "                .geemap-dark .jupyter-button {\n",
       "                    --jp-layout-color3: #383838;\n",
       "                }\n",
       "\n",
       "                .geemap-colab {\n",
       "                    background-color: var(--colab-primary-surface-color, white);\n",
       "                }\n",
       "\n",
       "                .geemap-colab .jupyter-button {\n",
       "                    --jp-layout-color3: var(--colab-primary-surface-color, white);\n",
       "                }\n",
       "            </style>\n",
       "            "
      ],
      "text/plain": [
       "<IPython.core.display.HTML object>"
      ]
     },
     "metadata": {},
     "output_type": "display_data"
    }
   ],
   "source": [
    "# Save the FeatureCollection to a new asset\n",
    "fc_path = 'projects/mapbiomas-workspace/SOLOS/AMOSTRAS/ORIGINAIS/2025-06-20-organic-carbon-stock-gram-per-square-meter'\n",
    "\n",
    "# Convert the DataFrame to an Earth Engine Table before export\n",
    "# (Assuming you want to export the DataFrame as a table, not as a pandas DataFrame)\n",
    "stable_fc = geemap.df_to_ee(stacked_data, latitude='coord_y', longitude='coord_x')\n",
    "\n",
    "# Export the FeatureCollection\n",
    "task = ee.batch.Export.table.toAsset(\n",
    "    collection=stable_fc,\n",
    "    description='ASR Field SOC Stock Data',\n",
    "    assetId=fc_path)\n",
    "task.start()"
   ]
  }
 ],
 "metadata": {
  "kernelspec": {
   "display_name": "geemap",
   "language": "python",
   "name": "python3"
  },
  "language_info": {
   "codemirror_mode": {
    "name": "ipython",
    "version": 3
   },
   "file_extension": ".py",
   "mimetype": "text/x-python",
   "name": "python",
   "nbconvert_exporter": "python",
   "pygments_lexer": "ipython3",
   "version": "3.10.12"
  }
 },
 "nbformat": 4,
 "nbformat_minor": 5
}
