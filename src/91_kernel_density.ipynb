{
 "cells": [
  {
   "cell_type": "markdown",
   "id": "be866a88",
   "metadata": {},
   "source": [
    "# Kernel Density Estimate\n",
    "\n",
    "Alessandro Samuel-Rosa, Taciara Zborowski Horst\n",
    "\n",
    "2025-07-06\n",
    "\n",
    "License: MIT"
   ]
  },
  {
   "cell_type": "code",
   "execution_count": 161,
   "id": "9733ab49",
   "metadata": {},
   "outputs": [
    {
     "data": {
      "text/html": [
       "\n",
       "            <style>\n",
       "                .geemap-dark {\n",
       "                    --jp-widgets-color: white;\n",
       "                    --jp-widgets-label-color: white;\n",
       "                    --jp-ui-font-color1: white;\n",
       "                    --jp-layout-color2: #454545;\n",
       "                    background-color: #383838;\n",
       "                }\n",
       "\n",
       "                .geemap-dark .jupyter-button {\n",
       "                    --jp-layout-color3: #383838;\n",
       "                }\n",
       "\n",
       "                .geemap-colab {\n",
       "                    background-color: var(--colab-primary-surface-color, white);\n",
       "                }\n",
       "\n",
       "                .geemap-colab .jupyter-button {\n",
       "                    --jp-layout-color3: var(--colab-primary-surface-color, white);\n",
       "                }\n",
       "            </style>\n",
       "            "
      ],
      "text/plain": [
       "<IPython.core.display.HTML object>"
      ]
     },
     "metadata": {},
     "output_type": "display_data"
    }
   ],
   "source": [
    "import ee\n",
    "import geemap\n",
    "\n",
    "try:\n",
    "    # Initialize the Earth Engine library.\n",
    "    # Authenticate and initialize GEE if you are running this locally.\n",
    "    # In some environments like Google Colab, ee.Authenticate() might not be needed.\n",
    "    # ee.Authenticate()\n",
    "    ee.Initialize(project='mapbiomas-solos-workspace') # Your project ID\n",
    "except Exception as e:\n",
    "    print(f\"Earth Engine initialization failed: {e}\")\n",
    "    # Fallback for environments where initialization might fail but a default project exists\n",
    "    try:\n",
    "        ee.Initialize()\n",
    "    except Exception as e_fallback:\n",
    "        print(f\"Fallback Earth Engine initialization also failed: {e_fallback}\")\n",
    "        # Exit or handle the error as appropriate for your application\n",
    "        exit()"
   ]
  },
  {
   "cell_type": "code",
   "execution_count": 162,
   "id": "19f63504",
   "metadata": {},
   "outputs": [
    {
     "data": {
      "text/html": [
       "\n",
       "            <style>\n",
       "                .geemap-dark {\n",
       "                    --jp-widgets-color: white;\n",
       "                    --jp-widgets-label-color: white;\n",
       "                    --jp-ui-font-color1: white;\n",
       "                    --jp-layout-color2: #454545;\n",
       "                    background-color: #383838;\n",
       "                }\n",
       "\n",
       "                .geemap-dark .jupyter-button {\n",
       "                    --jp-layout-color3: #383838;\n",
       "                }\n",
       "\n",
       "                .geemap-colab {\n",
       "                    background-color: var(--colab-primary-surface-color, white);\n",
       "                }\n",
       "\n",
       "                .geemap-colab .jupyter-button {\n",
       "                    --jp-layout-color3: var(--colab-primary-surface-color, white);\n",
       "                }\n",
       "            </style>\n",
       "            "
      ],
      "text/plain": [
       "<IPython.core.display.HTML object>"
      ]
     },
     "metadata": {},
     "output_type": "display_data"
    }
   ],
   "source": [
    "# 1. Define the input data path\n",
    "fc_dir = 'projects/mapbiomas-workspace/SOLOS/AMOSTRAS/MATRIZES/granulometry/'\n",
    "fc_name = 'matriz-v010_0_10cm'\n",
    "soil_samples_path = f\"{fc_dir}{fc_name}\""
   ]
  },
  {
   "cell_type": "code",
   "execution_count": 163,
   "id": "81d1fb49",
   "metadata": {},
   "outputs": [
    {
     "data": {
      "text/html": [
       "\n",
       "            <style>\n",
       "                .geemap-dark {\n",
       "                    --jp-widgets-color: white;\n",
       "                    --jp-widgets-label-color: white;\n",
       "                    --jp-ui-font-color1: white;\n",
       "                    --jp-layout-color2: #454545;\n",
       "                    background-color: #383838;\n",
       "                }\n",
       "\n",
       "                .geemap-dark .jupyter-button {\n",
       "                    --jp-layout-color3: #383838;\n",
       "                }\n",
       "\n",
       "                .geemap-colab {\n",
       "                    background-color: var(--colab-primary-surface-color, white);\n",
       "                }\n",
       "\n",
       "                .geemap-colab .jupyter-button {\n",
       "                    --jp-layout-color3: var(--colab-primary-surface-color, white);\n",
       "                }\n",
       "            </style>\n",
       "            "
      ],
      "text/plain": [
       "<IPython.core.display.HTML object>"
      ]
     },
     "metadata": {},
     "output_type": "display_data"
    }
   ],
   "source": [
    "# 2. Load the datasets\n",
    "try:\n",
    "    # Load the soil sampling points as a FeatureCollection\n",
    "    soil_samples = ee.FeatureCollection(soil_samples_path)\n",
    "    # Load Brazil boundary for clipping the final result\n",
    "    brazil_boundary = ee.FeatureCollection(\"FAO/GAUL/2015/level0\").filter(ee.Filter.eq('ADM0_NAME', 'Brazil'))\n",
    "except ee.EEException as e:\n",
    "    print(f\"Error loading data from Earth Engine: {e}\")\n",
    "    exit()"
   ]
  },
  {
   "cell_type": "code",
   "execution_count": 164,
   "id": "9357e793",
   "metadata": {},
   "outputs": [
    {
     "data": {
      "text/html": [
       "\n",
       "            <style>\n",
       "                .geemap-dark {\n",
       "                    --jp-widgets-color: white;\n",
       "                    --jp-widgets-label-color: white;\n",
       "                    --jp-ui-font-color1: white;\n",
       "                    --jp-layout-color2: #454545;\n",
       "                    background-color: #383838;\n",
       "                }\n",
       "\n",
       "                .geemap-dark .jupyter-button {\n",
       "                    --jp-layout-color3: #383838;\n",
       "                }\n",
       "\n",
       "                .geemap-colab {\n",
       "                    background-color: var(--colab-primary-surface-color, white);\n",
       "                }\n",
       "\n",
       "                .geemap-colab .jupyter-button {\n",
       "                    --jp-layout-color3: var(--colab-primary-surface-color, white);\n",
       "                }\n",
       "            </style>\n",
       "            "
      ],
      "text/plain": [
       "<IPython.core.display.HTML object>"
      ]
     },
     "metadata": {},
     "output_type": "display_data"
    }
   ],
   "source": [
    "# 3. Define projection and scale for the analysis\n",
    "# We define these manually since we are not using a reference image.\n",
    "# A standard projection like WGS84 (EPSG:4326) is suitable.\n",
    "target_crs = 'EPSG:4326'\n",
    "# A 1km scale is efficient for a country-wide density map.\n",
    "calculation_scale = 1000 # meters"
   ]
  },
  {
   "cell_type": "code",
   "execution_count": 165,
   "id": "236a36db",
   "metadata": {},
   "outputs": [
    {
     "data": {
      "text/html": [
       "\n",
       "            <style>\n",
       "                .geemap-dark {\n",
       "                    --jp-widgets-color: white;\n",
       "                    --jp-widgets-label-color: white;\n",
       "                    --jp-ui-font-color1: white;\n",
       "                    --jp-layout-color2: #454545;\n",
       "                    background-color: #383838;\n",
       "                }\n",
       "\n",
       "                .geemap-dark .jupyter-button {\n",
       "                    --jp-layout-color3: #383838;\n",
       "                }\n",
       "\n",
       "                .geemap-colab {\n",
       "                    background-color: var(--colab-primary-surface-color, white);\n",
       "                }\n",
       "\n",
       "                .geemap-colab .jupyter-button {\n",
       "                    --jp-layout-color3: var(--colab-primary-surface-color, white);\n",
       "                }\n",
       "            </style>\n",
       "            "
      ],
      "text/plain": [
       "<IPython.core.display.HTML object>"
      ]
     },
     "metadata": {},
     "output_type": "display_data"
    }
   ],
   "source": [
    "# 4. Compute the Kernel Density Estimate (KDE)\n",
    "# To fix the binary output issue, we use reduceToImage to rasterize the points,\n",
    "# which is more robust than the paint() method for this task.\n",
    "\n",
    "# Define the desired geographical radius for the kernel.\n",
    "kernel_radius_meters = 50000 # 50km\n",
    "\n",
    "# Calculate the kernel radius in pixels for our chosen calculation scale.\n",
    "kernel_radius_pixels = kernel_radius_meters / calculation_scale # 50000m / 1000m/pixel = 50 pixels\n",
    "\n",
    "# Add a property to each feature to be used as the 'weight' in the rasterization.\n",
    "soil_samples_with_weight = soil_samples.map(lambda f: f.set('density', 1))\n",
    "\n",
    "# Create an image of point counts per pixel at the coarse resolution.\n",
    "# This rasterizes the points into a grid. We use sum() in case multiple points fall in one pixel.\n",
    "image_with_points = soil_samples_with_weight.reduceToImage(\n",
    "    properties=['density'],\n",
    "    reducer=ee.Reducer.sum()\n",
    ").reproject(\n",
    "    crs=target_crs,\n",
    "    scale=calculation_scale\n",
    ").unmask(0) # Ensure empty pixels are 0, which is crucial for the kernel operation.\n",
    "\n",
    "\n",
    "# Create a Gaussian kernel using pixel units.\n",
    "# The radius of 50 pixels is efficient and well within GEE's limits.\n",
    "# normalize=True is the correct setting to create a probability density surface.\n",
    "kernel = ee.Kernel.gaussian(\n",
    "    radius=kernel_radius_pixels,\n",
    "    units='pixels',\n",
    "    normalize=True\n",
    ")\n",
    "\n",
    "# Apply the kernel using convolve(), which applies the kernel to each pixel's neighborhood.\n",
    "kde_image_unclipped = image_with_points.convolve(kernel)\n",
    "\n",
    "\n",
    "# Clip the final KDE image to the boundary of Brazil.\n",
    "kde_image = kde_image_unclipped.clip(brazil_boundary)"
   ]
  },
  {
   "cell_type": "code",
   "execution_count": 166,
   "id": "657f8447",
   "metadata": {},
   "outputs": [
    {
     "data": {
      "text/html": [
       "\n",
       "            <style>\n",
       "                .geemap-dark {\n",
       "                    --jp-widgets-color: white;\n",
       "                    --jp-widgets-label-color: white;\n",
       "                    --jp-ui-font-color1: white;\n",
       "                    --jp-layout-color2: #454545;\n",
       "                    background-color: #383838;\n",
       "                }\n",
       "\n",
       "                .geemap-dark .jupyter-button {\n",
       "                    --jp-layout-color3: #383838;\n",
       "                }\n",
       "\n",
       "                .geemap-colab {\n",
       "                    background-color: var(--colab-primary-surface-color, white);\n",
       "                }\n",
       "\n",
       "                .geemap-colab .jupyter-button {\n",
       "                    --jp-layout-color3: var(--colab-primary-surface-color, white);\n",
       "                }\n",
       "            </style>\n",
       "            "
      ],
      "text/plain": [
       "<IPython.core.display.HTML object>"
      ]
     },
     "metadata": {},
     "output_type": "display_data"
    }
   ],
   "source": [
    "# 5. Define visualization parameters for the KDE map\n",
    "# A fixed 'max' value is used instead of dynamic calculation for better performance\n",
    "# and consistency across a large area like Brazil.\n",
    "# This value is a guess and may need to be adjusted to best visualize\n",
    "# the density variations in your specific dataset. If the map appears\n",
    "# saturated (mostly red), increase this value. If it's too faint, decrease it.\n",
    "fixed_max_value = 0.0005\n",
    "\n",
    "# We'll use a color palette that goes from transparent/light for low density\n",
    "# to a strong color for high density.\n",
    "kde_vis_params = {\n",
    "    'min': 0,\n",
    "    'max': fixed_max_value,\n",
    "    'palette': ['#FFFFFF00', 'yellow', 'orange', 'red', 'darkred']\n",
    "}"
   ]
  },
  {
   "cell_type": "code",
   "execution_count": 167,
   "id": "eaa9df34",
   "metadata": {},
   "outputs": [
    {
     "data": {
      "text/html": [
       "\n",
       "            <style>\n",
       "                .geemap-dark {\n",
       "                    --jp-widgets-color: white;\n",
       "                    --jp-widgets-label-color: white;\n",
       "                    --jp-ui-font-color1: white;\n",
       "                    --jp-layout-color2: #454545;\n",
       "                    background-color: #383838;\n",
       "                }\n",
       "\n",
       "                .geemap-dark .jupyter-button {\n",
       "                    --jp-layout-color3: #383838;\n",
       "                }\n",
       "\n",
       "                .geemap-colab {\n",
       "                    background-color: var(--colab-primary-surface-color, white);\n",
       "                }\n",
       "\n",
       "                .geemap-colab .jupyter-button {\n",
       "                    --jp-layout-color3: var(--colab-primary-surface-color, white);\n",
       "                }\n",
       "            </style>\n",
       "            "
      ],
      "text/plain": [
       "<IPython.core.display.HTML object>"
      ]
     },
     "metadata": {},
     "output_type": "display_data"
    },
    {
     "data": {
      "application/vnd.jupyter.widget-view+json": {
       "model_id": "9687ec143830479d95c62e3e8df4d7fc",
       "version_major": 2,
       "version_minor": 0
      },
      "text/plain": [
       "Map(center=[-14, -54], controls=(WidgetControl(options=['position', 'transparent_bg'], widget=SearchDataGUI(ch…"
      ]
     },
     "execution_count": 167,
     "metadata": {},
     "output_type": "execute_result"
    }
   ],
   "source": [
    "# 6. Create and display the map\n",
    "# Initialize a geemap Map object\n",
    "m = geemap.Map(center=[-14, -54], zoom=4) # Center on Brazil\n",
    "\n",
    "# Add the final KDE layer to the map\n",
    "m.addLayer(kde_image, kde_vis_params, 'Soil Sample Density (KDE)')\n",
    "\n",
    "# Add the original soil sample points for reference\n",
    "m.addLayer(soil_samples, {'color': 'blue'}, 'Soil Sample Points', False) # Initially off\n",
    "\n",
    "# Add the Brazil boundary for context\n",
    "m.addLayer(brazil_boundary, {}, 'Brazil Boundary', False) # Initially off\n",
    "\n",
    "# Add a layer control to toggle layers on and off\n",
    "m.addLayerControl()\n",
    "\n",
    "# Display the map\n",
    "m"
   ]
  }
 ],
 "metadata": {
  "kernelspec": {
   "display_name": "geemap",
   "language": "python",
   "name": "python3"
  },
  "language_info": {
   "codemirror_mode": {
    "name": "ipython",
    "version": 3
   },
   "file_extension": ".py",
   "mimetype": "text/x-python",
   "name": "python",
   "nbconvert_exporter": "python",
   "pygments_lexer": "ipython3",
   "version": "3.10.12"
  }
 },
 "nbformat": 4,
 "nbformat_minor": 5
}
