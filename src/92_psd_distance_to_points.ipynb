{
 "cells": [
  {
   "cell_type": "markdown",
   "id": "14840ac5",
   "metadata": {},
   "source": [
    "# Distance Classes to Nearest Soil Samples\n",
    "\n",
    "Alessandro Samuel-Rosa, Taciara Zborowski Horst\n",
    "\n",
    "2025-07-07\n",
    "\n",
    "This script calculates the distance from each pixel of a reference map to the nearest soil sample point used for particle size distribution modeling across the Brazilian biomes. It is designed to produce a map that visualizes the spatial representativeness of this specific sampling network.\n",
    "\n",
    "The core calculation uses the efficient `ee.Image.fastDistanceTransform` method. The resulting distance-in-pixels is converted to a precise distance-in-meters using `ee.Image.pixelArea().sqrt()`, which accounts for map projection distortions.\n",
    "\n",
    "Finally, the continuous distance values are reclassified into six distinct classes (e.g., 0-50 m, 50-250 m, up to >10,000 m). The output is a single-band, 8-bit integer image where each pixel value from 1 to 6 corresponds to one of these distance classes.\n",
    "\n",
    "License: MIT"
   ]
  },
  {
   "cell_type": "code",
   "execution_count": 11,
   "id": "747280b1",
   "metadata": {},
   "outputs": [
    {
     "data": {
      "text/html": [
       "\n",
       "            <style>\n",
       "                .geemap-dark {\n",
       "                    --jp-widgets-color: white;\n",
       "                    --jp-widgets-label-color: white;\n",
       "                    --jp-ui-font-color1: white;\n",
       "                    --jp-layout-color2: #454545;\n",
       "                    background-color: #383838;\n",
       "                }\n",
       "\n",
       "                .geemap-dark .jupyter-button {\n",
       "                    --jp-layout-color3: #383838;\n",
       "                }\n",
       "\n",
       "                .geemap-colab {\n",
       "                    background-color: var(--colab-primary-surface-color, white);\n",
       "                }\n",
       "\n",
       "                .geemap-colab .jupyter-button {\n",
       "                    --jp-layout-color3: var(--colab-primary-surface-color, white);\n",
       "                }\n",
       "            </style>\n",
       "            "
      ],
      "text/plain": [
       "<IPython.core.display.HTML object>"
      ]
     },
     "metadata": {},
     "output_type": "display_data"
    }
   ],
   "source": [
    "# --- 1. IMPORT LIBRARIES & INITIALIZE ---\n",
    "import ee\n",
    "import geemap\n",
    "\n",
    "# Authenticate and initialize the Earth Engine project.\n",
    "# ee.Authenticate() # Run once in your environment if needed.\n",
    "ee.Initialize(project='mapbiomas-solos-workspace')"
   ]
  },
  {
   "cell_type": "code",
   "execution_count": 12,
   "id": "1f081d0e",
   "metadata": {},
   "outputs": [
    {
     "data": {
      "text/html": [
       "\n",
       "            <style>\n",
       "                .geemap-dark {\n",
       "                    --jp-widgets-color: white;\n",
       "                    --jp-widgets-label-color: white;\n",
       "                    --jp-ui-font-color1: white;\n",
       "                    --jp-layout-color2: #454545;\n",
       "                    background-color: #383838;\n",
       "                }\n",
       "\n",
       "                .geemap-dark .jupyter-button {\n",
       "                    --jp-layout-color3: #383838;\n",
       "                }\n",
       "\n",
       "                .geemap-colab {\n",
       "                    background-color: var(--colab-primary-surface-color, white);\n",
       "                }\n",
       "\n",
       "                .geemap-colab .jupyter-button {\n",
       "                    --jp-layout-color3: var(--colab-primary-surface-color, white);\n",
       "                }\n",
       "            </style>\n",
       "            "
      ],
      "text/plain": [
       "<IPython.core.display.HTML object>"
      ]
     },
     "metadata": {},
     "output_type": "display_data"
    }
   ],
   "source": [
    "# --- 2. DEFINE ASSETS ---\n",
    "# Soil sampling points.\n",
    "samplingPoints = ee.FeatureCollection('projects/mapbiomas-workspace/SOLOS/AMOSTRAS/MATRIZES/granulometry/matriz-v010_0_10cm')\n",
    "\n",
    "# Reference soil property map.\n",
    "# CORRECTED LINE: Select a valid band name from your image.\n",
    "soilPropertyMap = ee.Image('projects/mapbiomas-workspace/SOLOS/PRODUTOS_C02/c02v2/mapbiomas_soil_collection2_v2_clay').select('clay_000_010cm')\n",
    "\n",
    "# Area of Interest (AOI).\n",
    "aoi = ee.FeatureCollection('projects/mapbiomas-workspace/AUXILIAR/biomas_IBGE_250mil')"
   ]
  },
  {
   "cell_type": "code",
   "execution_count": 13,
   "id": "bb1ca6e5",
   "metadata": {},
   "outputs": [
    {
     "data": {
      "text/html": [
       "\n",
       "            <style>\n",
       "                .geemap-dark {\n",
       "                    --jp-widgets-color: white;\n",
       "                    --jp-widgets-label-color: white;\n",
       "                    --jp-ui-font-color1: white;\n",
       "                    --jp-layout-color2: #454545;\n",
       "                    background-color: #383838;\n",
       "                }\n",
       "\n",
       "                .geemap-dark .jupyter-button {\n",
       "                    --jp-layout-color3: #383838;\n",
       "                }\n",
       "\n",
       "                .geemap-colab {\n",
       "                    background-color: var(--colab-primary-surface-color, white);\n",
       "                }\n",
       "\n",
       "                .geemap-colab .jupyter-button {\n",
       "                    --jp-layout-color3: var(--colab-primary-surface-color, white);\n",
       "                }\n",
       "            </style>\n",
       "            "
      ],
      "text/plain": [
       "<IPython.core.display.HTML object>"
      ]
     },
     "metadata": {},
     "output_type": "display_data"
    }
   ],
   "source": [
    "# --- 3. PROCESS DATA: CALCULATE DISTANCE CLASSES ---\n",
    "# Create a base grid from the soil map for perfect alignment.\n",
    "sourceImage = soilPropertyMap.multiply(0).paint(samplingPoints, 1)\n",
    "\n",
    "# Apply the Fast Distance Transform (FDT).\n",
    "fdt = sourceImage.fastDistanceTransform(512, 'pixels', 'squared_euclidean')\n",
    "\n",
    "# Convert to a precise distance in meters using pixelArea().\n",
    "distanceInPixels = fdt.select('distance').sqrt()\n",
    "pixelSize = ee.Image.pixelArea().sqrt()\n",
    "distanceInMeters = distanceInPixels.multiply(pixelSize)\n",
    "\n",
    "# Reclassify the continuous distance into 6 discrete, meaningful classes.\n",
    "distanceClasses = ee.Image(6) \\\n",
    "  .where(distanceInMeters.lte(10000), 5) \\\n",
    "  .where(distanceInMeters.lte(5000), 4) \\\n",
    "  .where(distanceInMeters.lte(1000), 3) \\\n",
    "  .where(distanceInMeters.lte(250), 2) \\\n",
    "  .where(distanceInMeters.lte(50), 1) \\\n",
    "  .toUint8()\n",
    "\n",
    "# Clip the final raster to the boundary of the AOI.\n",
    "finalClasses = distanceClasses.clip(aoi)"
   ]
  },
  {
   "cell_type": "code",
   "execution_count": 14,
   "id": "2d3b09ab",
   "metadata": {},
   "outputs": [
    {
     "data": {
      "text/html": [
       "\n",
       "            <style>\n",
       "                .geemap-dark {\n",
       "                    --jp-widgets-color: white;\n",
       "                    --jp-widgets-label-color: white;\n",
       "                    --jp-ui-font-color1: white;\n",
       "                    --jp-layout-color2: #454545;\n",
       "                    background-color: #383838;\n",
       "                }\n",
       "\n",
       "                .geemap-dark .jupyter-button {\n",
       "                    --jp-layout-color3: #383838;\n",
       "                }\n",
       "\n",
       "                .geemap-colab {\n",
       "                    background-color: var(--colab-primary-surface-color, white);\n",
       "                }\n",
       "\n",
       "                .geemap-colab .jupyter-button {\n",
       "                    --jp-layout-color3: var(--colab-primary-surface-color, white);\n",
       "                }\n",
       "            </style>\n",
       "            "
      ],
      "text/plain": [
       "<IPython.core.display.HTML object>"
      ]
     },
     "metadata": {},
     "output_type": "display_data"
    },
    {
     "data": {
      "application/vnd.jupyter.widget-view+json": {
       "model_id": "47e1697902ad459f9a6973b7646a5d35",
       "version_major": 2,
       "version_minor": 0
      },
      "text/plain": [
       "Map(center=[-10.62046648393736, -53.18363392405513], controls=(WidgetControl(options=['position', 'transparent…"
      ]
     },
     "execution_count": 14,
     "metadata": {},
     "output_type": "execute_result"
    }
   ],
   "source": [
    "# --- 4. VISUALIZE THE RESULT ---\n",
    "# Create an interactive map object.\n",
    "Map = geemap.Map()\n",
    "Map.add_basemap('SATELLITE')\n",
    "\n",
    "# Define visualization parameters for the 6 classes.\n",
    "visParams = {\n",
    "  'min': 1,\n",
    "  'max': 6,\n",
    "  'palette': ['#0000FF', '#00A0FF', '#00FF00', '#FFFF00', '#FFA500', '#FF0000']\n",
    "}\n",
    "\n",
    "# Add the final layer to the map and center the view.\n",
    "Map.addLayer(finalClasses, visParams, 'Geostatistical Distance Classes')\n",
    "Map.centerObject(aoi, 4)\n",
    "\n",
    "# Display the interactive map in your notebook.\n",
    "Map\n"
   ]
  },
  {
   "cell_type": "code",
   "execution_count": 15,
   "id": "9dc6f1b9",
   "metadata": {},
   "outputs": [
    {
     "data": {
      "text/html": [
       "\n",
       "            <style>\n",
       "                .geemap-dark {\n",
       "                    --jp-widgets-color: white;\n",
       "                    --jp-widgets-label-color: white;\n",
       "                    --jp-ui-font-color1: white;\n",
       "                    --jp-layout-color2: #454545;\n",
       "                    background-color: #383838;\n",
       "                }\n",
       "\n",
       "                .geemap-dark .jupyter-button {\n",
       "                    --jp-layout-color3: #383838;\n",
       "                }\n",
       "\n",
       "                .geemap-colab {\n",
       "                    background-color: var(--colab-primary-surface-color, white);\n",
       "                }\n",
       "\n",
       "                .geemap-colab .jupyter-button {\n",
       "                    --jp-layout-color3: var(--colab-primary-surface-color, white);\n",
       "                }\n",
       "            </style>\n",
       "            "
      ],
      "text/plain": [
       "<IPython.core.display.HTML object>"
      ]
     },
     "metadata": {},
     "output_type": "display_data"
    },
    {
     "name": "stdout",
     "output_type": "stream",
     "text": [
      "\n",
      "Rasterizing points (using default projection/scale)...\n"
     ]
    },
    {
     "ename": "NameError",
     "evalue": "name 'soil_points_with_constant' is not defined",
     "output_type": "error",
     "traceback": [
      "\u001b[0;31m---------------------------------------------------------------------------\u001b[0m",
      "\u001b[0;31mNameError\u001b[0m                                 Traceback (most recent call last)",
      "Cell \u001b[0;32mIn[15], line 5\u001b[0m\n\u001b[1;32m      2\u001b[0m \u001b[38;5;28mprint\u001b[39m(\u001b[38;5;124m\"\u001b[39m\u001b[38;5;130;01m\\n\u001b[39;00m\u001b[38;5;124mRasterizing points (using default projection/scale)...\u001b[39m\u001b[38;5;124m\"\u001b[39m)\n\u001b[1;32m      4\u001b[0m \u001b[38;5;66;03m# Reduce to Image - uses GEE default projection/scale\u001b[39;00m\n\u001b[0;32m----> 5\u001b[0m point_presence_image \u001b[38;5;241m=\u001b[39m \u001b[43msoil_points_with_constant\u001b[49m\u001b[38;5;241m.\u001b[39mreduceToImage(\n\u001b[1;32m      6\u001b[0m     properties\u001b[38;5;241m=\u001b[39m[\u001b[38;5;124m'\u001b[39m\u001b[38;5;124mconstant\u001b[39m\u001b[38;5;124m'\u001b[39m],\n\u001b[1;32m      7\u001b[0m     reducer\u001b[38;5;241m=\u001b[39mee\u001b[38;5;241m.\u001b[39mReducer\u001b[38;5;241m.\u001b[39msum()\u001b[38;5;241m.\u001b[39munweighted()\n\u001b[1;32m      8\u001b[0m )\u001b[38;5;241m.\u001b[39munmask(\u001b[38;5;241m0\u001b[39m)\n\u001b[1;32m     10\u001b[0m \u001b[38;5;66;03m# Create the source image (1 where points are, 0 elsewhere)\u001b[39;00m\n\u001b[1;32m     11\u001b[0m source_image \u001b[38;5;241m=\u001b[39m point_presence_image\u001b[38;5;241m.\u001b[39mgt(\u001b[38;5;241m0\u001b[39m)\n",
      "\u001b[0;31mNameError\u001b[0m: name 'soil_points_with_constant' is not defined"
     ]
    }
   ],
   "source": [
    "# --- 4. Prepare Image for Distance Calculation (No Reprojection) ---\n",
    "print(\"\\nRasterizing points (using default projection/scale)...\")\n",
    "\n",
    "# Reduce to Image - uses GEE default projection/scale\n",
    "point_presence_image = soil_points_with_constant.reduceToImage(\n",
    "    properties=['constant'],\n",
    "    reducer=ee.Reducer.sum().unweighted()\n",
    ").unmask(0)\n",
    "\n",
    "# Create the source image (1 where points are, 0 elsewhere)\n",
    "source_image = point_presence_image.gt(0)"
   ]
  },
  {
   "cell_type": "code",
   "execution_count": null,
   "id": "3479ce93",
   "metadata": {},
   "outputs": [
    {
     "data": {
      "text/html": [
       "\n",
       "            <style>\n",
       "                .geemap-dark {\n",
       "                    --jp-widgets-color: white;\n",
       "                    --jp-widgets-label-color: white;\n",
       "                    --jp-ui-font-color1: white;\n",
       "                    --jp-layout-color2: #454545;\n",
       "                    background-color: #383838;\n",
       "                }\n",
       "\n",
       "                .geemap-dark .jupyter-button {\n",
       "                    --jp-layout-color3: #383838;\n",
       "                }\n",
       "\n",
       "                .geemap-colab {\n",
       "                    background-color: var(--colab-primary-surface-color, white);\n",
       "                }\n",
       "\n",
       "                .geemap-colab .jupyter-button {\n",
       "                    --jp-layout-color3: var(--colab-primary-surface-color, white);\n",
       "                }\n",
       "            </style>\n",
       "            "
      ],
      "text/plain": [
       "<IPython.core.display.HTML object>"
      ]
     },
     "metadata": {},
     "output_type": "display_data"
    },
    {
     "name": "stdout",
     "output_type": "stream",
     "text": [
      "Calculating distance in PIXELS using fastDistanceTransform...\n"
     ]
    }
   ],
   "source": [
    "# --- 5. Calculate Distance in Pixels ---\n",
    "print(\"Calculating distance in PIXELS using fastDistanceTransform...\")\n",
    "distance_image_multiband = source_image.fastDistanceTransform(\n",
    "    neighborhood=NEIGHBORHOOD_PIXELS,\n",
    "    metric='squared_euclidean'\n",
    ")\n",
    "distance_pixels_image = distance_image_multiband.select('distance').sqrt()"
   ]
  },
  {
   "cell_type": "code",
   "execution_count": null,
   "id": "0ad55928",
   "metadata": {},
   "outputs": [
    {
     "data": {
      "text/html": [
       "\n",
       "            <style>\n",
       "                .geemap-dark {\n",
       "                    --jp-widgets-color: white;\n",
       "                    --jp-widgets-label-color: white;\n",
       "                    --jp-ui-font-color1: white;\n",
       "                    --jp-layout-color2: #454545;\n",
       "                    background-color: #383838;\n",
       "                }\n",
       "\n",
       "                .geemap-dark .jupyter-button {\n",
       "                    --jp-layout-color3: #383838;\n",
       "                }\n",
       "\n",
       "                .geemap-colab {\n",
       "                    background-color: var(--colab-primary-surface-color, white);\n",
       "                }\n",
       "\n",
       "                .geemap-colab .jupyter-button {\n",
       "                    --jp-layout-color3: var(--colab-primary-surface-color, white);\n",
       "                }\n",
       "            </style>\n",
       "            "
      ],
      "text/plain": [
       "<IPython.core.display.HTML object>"
      ]
     },
     "metadata": {},
     "output_type": "display_data"
    },
    {
     "name": "stdout",
     "output_type": "stream",
     "text": [
      "Converting pixel distance to approximate METERS using pixelArea()...\n"
     ]
    }
   ],
   "source": [
    "# --- 6. Convert to Approximate Meters ---\n",
    "print(\"Converting pixel distance to approximate METERS using pixelArea()...\")\n",
    "pixel_size_in_meters = ee.Image.pixelArea().sqrt()\n",
    "distance_meters_image = distance_pixels_image.multiply(pixel_size_in_meters)"
   ]
  },
  {
   "cell_type": "code",
   "execution_count": null,
   "id": "8d7dae26",
   "metadata": {},
   "outputs": [
    {
     "data": {
      "text/html": [
       "\n",
       "            <style>\n",
       "                .geemap-dark {\n",
       "                    --jp-widgets-color: white;\n",
       "                    --jp-widgets-label-color: white;\n",
       "                    --jp-ui-font-color1: white;\n",
       "                    --jp-layout-color2: #454545;\n",
       "                    background-color: #383838;\n",
       "                }\n",
       "\n",
       "                .geemap-dark .jupyter-button {\n",
       "                    --jp-layout-color3: #383838;\n",
       "                }\n",
       "\n",
       "                .geemap-colab {\n",
       "                    background-color: var(--colab-primary-surface-color, white);\n",
       "                }\n",
       "\n",
       "                .geemap-colab .jupyter-button {\n",
       "                    --jp-layout-color3: var(--colab-primary-surface-color, white);\n",
       "                }\n",
       "            </style>\n",
       "            "
      ],
      "text/plain": [
       "<IPython.core.display.HTML object>"
      ]
     },
     "metadata": {},
     "output_type": "display_data"
    },
    {
     "name": "stdout",
     "output_type": "stream",
     "text": [
      "Masking out all distances > 1000 meters...\n"
     ]
    }
   ],
   "source": [
    "# --- 7. Mask distances greater than the threshold ---\n",
    "print(f\"Masking out all distances > {MAX_DISTANCE_METERS_THRESHOLD} meters...\")\n",
    "# The .lte() function means \"less than or equal to\".\n",
    "# The mask keeps only the pixels that meet this condition.\n",
    "final_distance_image = distance_meters_image.updateMask(\n",
    "    distance_meters_image.lte(MAX_DISTANCE_METERS_THRESHOLD)\n",
    ")"
   ]
  },
  {
   "cell_type": "code",
   "execution_count": null,
   "id": "cc36a56d",
   "metadata": {},
   "outputs": [
    {
     "data": {
      "text/html": [
       "\n",
       "            <style>\n",
       "                .geemap-dark {\n",
       "                    --jp-widgets-color: white;\n",
       "                    --jp-widgets-label-color: white;\n",
       "                    --jp-ui-font-color1: white;\n",
       "                    --jp-layout-color2: #454545;\n",
       "                    background-color: #383838;\n",
       "                }\n",
       "\n",
       "                .geemap-dark .jupyter-button {\n",
       "                    --jp-layout-color3: #383838;\n",
       "                }\n",
       "\n",
       "                .geemap-colab {\n",
       "                    background-color: var(--colab-primary-surface-color, white);\n",
       "                }\n",
       "\n",
       "                .geemap-colab .jupyter-button {\n",
       "                    --jp-layout-color3: var(--colab-primary-surface-color, white);\n",
       "                }\n",
       "            </style>\n",
       "            "
      ],
      "text/plain": [
       "<IPython.core.display.HTML object>"
      ]
     },
     "metadata": {},
     "output_type": "display_data"
    },
    {
     "name": "stdout",
     "output_type": "stream",
     "text": [
      "Simplifying final image by dividing by 10, rounding, and converting to integer...\n"
     ]
    }
   ],
   "source": [
    "# --- 8. Simplify the final image ---\n",
    "print(\"Simplifying final image by dividing by 10, rounding, and converting to integer...\")\n",
    "# This results in an image with values from 0-100. toUint8 is efficient for this range.\n",
    "simplified_distance_image = final_distance_image.divide(10).round().toUint8()\n"
   ]
  },
  {
   "cell_type": "code",
   "execution_count": null,
   "id": "cbf6294f",
   "metadata": {},
   "outputs": [
    {
     "data": {
      "text/html": [
       "\n",
       "            <style>\n",
       "                .geemap-dark {\n",
       "                    --jp-widgets-color: white;\n",
       "                    --jp-widgets-label-color: white;\n",
       "                    --jp-ui-font-color1: white;\n",
       "                    --jp-layout-color2: #454545;\n",
       "                    background-color: #383838;\n",
       "                }\n",
       "\n",
       "                .geemap-dark .jupyter-button {\n",
       "                    --jp-layout-color3: #383838;\n",
       "                }\n",
       "\n",
       "                .geemap-colab {\n",
       "                    background-color: var(--colab-primary-surface-color, white);\n",
       "                }\n",
       "\n",
       "                .geemap-colab .jupyter-button {\n",
       "                    --jp-layout-color3: var(--colab-primary-surface-color, white);\n",
       "                }\n",
       "            </style>\n",
       "            "
      ],
      "text/plain": [
       "<IPython.core.display.HTML object>"
      ]
     },
     "metadata": {},
     "output_type": "display_data"
    },
    {
     "name": "stdout",
     "output_type": "stream",
     "text": [
      "\n",
      "Clipping final simplified image to AOI...\n"
     ]
    }
   ],
   "source": [
    "# --- 9. Clip Result ---\n",
    "print(\"\\nClipping final simplified image to AOI...\")\n",
    "final_simplified_image_clipped = simplified_distance_image.clip(aoi_geometry)"
   ]
  },
  {
   "cell_type": "code",
   "execution_count": null,
   "id": "60bca571",
   "metadata": {},
   "outputs": [
    {
     "data": {
      "text/html": [
       "\n",
       "            <style>\n",
       "                .geemap-dark {\n",
       "                    --jp-widgets-color: white;\n",
       "                    --jp-widgets-label-color: white;\n",
       "                    --jp-ui-font-color1: white;\n",
       "                    --jp-layout-color2: #454545;\n",
       "                    background-color: #383838;\n",
       "                }\n",
       "\n",
       "                .geemap-dark .jupyter-button {\n",
       "                    --jp-layout-color3: #383838;\n",
       "                }\n",
       "\n",
       "                .geemap-colab {\n",
       "                    background-color: var(--colab-primary-surface-color, white);\n",
       "                }\n",
       "\n",
       "                .geemap-colab .jupyter-button {\n",
       "                    --jp-layout-color3: var(--colab-primary-surface-color, white);\n",
       "                }\n",
       "            </style>\n",
       "            "
      ],
      "text/plain": [
       "<IPython.core.display.HTML object>"
      ]
     },
     "metadata": {},
     "output_type": "display_data"
    },
    {
     "name": "stdout",
     "output_type": "stream",
     "text": [
      "\n",
      "Preparing map visualization...\n",
      "Visualizing simplified distances from 0 to 100.\n",
      "\n",
      "Script finished. Displaying map.\n"
     ]
    },
    {
     "data": {
      "application/vnd.jupyter.widget-view+json": {
       "model_id": "385bb091d8a1463bba2ebf23e1925aa1",
       "version_major": 2,
       "version_minor": 0
      },
      "text/plain": [
       "Map(center=[-10.62347807211283, -53.19353084531423], controls=(WidgetControl(options=['position', 'transparent…"
      ]
     },
     "execution_count": 11,
     "metadata": {},
     "output_type": "execute_result"
    }
   ],
   "source": [
    "# --- 10. Visualize the final simplified Map ---\n",
    "print(\"\\nPreparing map visualization...\")\n",
    "Map = geemap.Map()\n",
    "Map.centerObject(aoi_geometry, 4)\n",
    "\n",
    "# --- UPDATED: Visualization for the new 0-100 range ---\n",
    "dnn_vis_params = {\n",
    "  'min': 0,\n",
    "  'max': 100, # Corresponds to the original 1000m max distance\n",
    "  'palette': ['0000FF', '00FFFF', 'FFFF00', 'FF0000'] # Blue=Near -> Red=Far\n",
    "}\n",
    "print(f\"Visualizing simplified distances from 0 to 100.\")\n",
    "\n",
    "# Add layers to the map\n",
    "Map.addLayer(ee.Image().paint(aoi_geometry, 0, 2), {'palette': '000000'}, 'AOI Boundary')\n",
    "Map.addLayer(soil_points, {'color': 'FF0000'}, 'Filtered Soil Samples (Red)')\n",
    "Map.addLayer(\n",
    "    final_simplified_image_clipped,\n",
    "    dnn_vis_params,\n",
    "    'Simplified Distance (0-100)'\n",
    ")\n",
    "\n",
    "print(\"\\nScript finished. Displaying map.\")\n",
    "Map"
   ]
  }
 ],
 "metadata": {
  "kernelspec": {
   "display_name": "geemap",
   "language": "python",
   "name": "python3"
  },
  "language_info": {
   "codemirror_mode": {
    "name": "ipython",
    "version": 3
   },
   "file_extension": ".py",
   "mimetype": "text/x-python",
   "name": "python",
   "nbconvert_exporter": "python",
   "pygments_lexer": "ipython3",
   "version": "3.10.12"
  }
 },
 "nbformat": 4,
 "nbformat_minor": 5
}
