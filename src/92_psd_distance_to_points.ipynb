{
 "cells": [
  {
   "cell_type": "markdown",
   "id": "14840ac5",
   "metadata": {},
   "source": [
    "# Distance to training samples\n",
    "\n",
    "Alessandro Samuel-Rosa, Taciara Zborowski Horst\n",
    "\n",
    "2025-06-29\n",
    "\n",
    "This script computes the distance from each pixel in a raster to the nearest training sample point. If the nearest point is further than 1000 meters, the distance is set to 1000 meters. The script uses the Google Earth Engine (GEE) API to perform these calculations. The fast distance calculation is done using the `ee.Image.fastDistanceTransform` method, which is efficient for large datasets. The function outputs distance values in number of pixels, which can be converted to meters based on the scale of the raster.\n",
    "\n",
    "License: MIT"
   ]
  },
  {
   "cell_type": "code",
   "execution_count": 1,
   "id": "747280b1",
   "metadata": {},
   "outputs": [
    {
     "name": "stdout",
     "output_type": "stream",
     "text": [
      "--- Calculating and simplifying meter-distance, masking > 1000m ---\n"
     ]
    }
   ],
   "source": [
    "# Import necessary libraries\n",
    "import ee\n",
    "import geemap\n",
    "\n",
    "# Initialize the Earth Engine API\n",
    "# ee.Authenticate()\n",
    "ee.Initialize(project='mapbiomas-solos-workspace')\n",
    "\n",
    "# --- Configuration ---\n",
    "# Asset IDs\n",
    "aoi_path = 'projects/mapbiomas-workspace/AUXILIAR/brasil_2km'\n",
    "fc_dir = 'projects/mapbiomas-workspace/SOLOS/AMOSTRAS/MATRIZES/granulometry/'\n",
    "fc_name = 'matriz-v010_0_10cm'\n",
    "fc_path = f'{fc_dir}{fc_name}'\n",
    "\n",
    "# Parameters for distance calculation and visualization\n",
    "# Use a neighborhood large enough to find distances > 1000m before we mask them.\n",
    "NEIGHBORHOOD_PIXELS = 5000\n",
    "# The distance in meters at which we want to cap the result.\n",
    "MAX_DISTANCE_METERS_THRESHOLD = 1000\n",
    "\n",
    "print(\"--- Calculating and simplifying meter-distance, masking > 1000m ---\")"
   ]
  },
  {
   "cell_type": "code",
   "execution_count": 2,
   "id": "1f081d0e",
   "metadata": {},
   "outputs": [
    {
     "data": {
      "text/html": [
       "\n",
       "            <style>\n",
       "                .geemap-dark {\n",
       "                    --jp-widgets-color: white;\n",
       "                    --jp-widgets-label-color: white;\n",
       "                    --jp-ui-font-color1: white;\n",
       "                    --jp-layout-color2: #454545;\n",
       "                    background-color: #383838;\n",
       "                }\n",
       "\n",
       "                .geemap-dark .jupyter-button {\n",
       "                    --jp-layout-color3: #383838;\n",
       "                }\n",
       "\n",
       "                .geemap-colab {\n",
       "                    background-color: var(--colab-primary-surface-color, white);\n",
       "                }\n",
       "\n",
       "                .geemap-colab .jupyter-button {\n",
       "                    --jp-layout-color3: var(--colab-primary-surface-color, white);\n",
       "                }\n",
       "            </style>\n",
       "            "
      ],
      "text/plain": [
       "<IPython.core.display.HTML object>"
      ]
     },
     "metadata": {},
     "output_type": "display_data"
    },
    {
     "name": "stdout",
     "output_type": "stream",
     "text": [
      "Loading AOI: projects/mapbiomas-workspace/AUXILIAR/brasil_2km\n",
      "AOI geometry loaded.\n"
     ]
    }
   ],
   "source": [
    "# --- 1. Define Area of Interest ---\n",
    "print('Loading AOI:', aoi_path)\n",
    "aoi_asset = ee.FeatureCollection(aoi_path)\n",
    "aoi_geometry = aoi_asset.union(1)\n",
    "print(\"AOI geometry loaded.\")\n"
   ]
  },
  {
   "cell_type": "code",
   "execution_count": 3,
   "id": "bb1ca6e5",
   "metadata": {},
   "outputs": [
    {
     "data": {
      "text/html": [
       "\n",
       "            <style>\n",
       "                .geemap-dark {\n",
       "                    --jp-widgets-color: white;\n",
       "                    --jp-widgets-label-color: white;\n",
       "                    --jp-ui-font-color1: white;\n",
       "                    --jp-layout-color2: #454545;\n",
       "                    background-color: #383838;\n",
       "                }\n",
       "\n",
       "                .geemap-dark .jupyter-button {\n",
       "                    --jp-layout-color3: #383838;\n",
       "                }\n",
       "\n",
       "                .geemap-colab {\n",
       "                    background-color: var(--colab-primary-surface-color, white);\n",
       "                }\n",
       "\n",
       "                .geemap-colab .jupyter-button {\n",
       "                    --jp-layout-color3: var(--colab-primary-surface-color, white);\n",
       "                }\n",
       "            </style>\n",
       "            "
      ],
      "text/plain": [
       "<IPython.core.display.HTML object>"
      ]
     },
     "metadata": {},
     "output_type": "display_data"
    },
    {
     "name": "stdout",
     "output_type": "stream",
     "text": [
      "Loading and filtering soil samples...\n",
      "Soil samples loaded.\n"
     ]
    }
   ],
   "source": [
    "# --- 2. Load and Filter Soil Samples ---\n",
    "print('Loading and filtering soil samples...')\n",
    "soil_points_all = ee.FeatureCollection(fc_path)\n",
    "soil_points = soil_points_all.filterBounds(aoi_geometry)\n",
    "print(\"Soil samples loaded.\")"
   ]
  },
  {
   "cell_type": "code",
   "execution_count": 4,
   "id": "2d3b09ab",
   "metadata": {},
   "outputs": [
    {
     "data": {
      "text/html": [
       "\n",
       "            <style>\n",
       "                .geemap-dark {\n",
       "                    --jp-widgets-color: white;\n",
       "                    --jp-widgets-label-color: white;\n",
       "                    --jp-ui-font-color1: white;\n",
       "                    --jp-layout-color2: #454545;\n",
       "                    background-color: #383838;\n",
       "                }\n",
       "\n",
       "                .geemap-dark .jupyter-button {\n",
       "                    --jp-layout-color3: #383838;\n",
       "                }\n",
       "\n",
       "                .geemap-colab {\n",
       "                    background-color: var(--colab-primary-surface-color, white);\n",
       "                }\n",
       "\n",
       "                .geemap-colab .jupyter-button {\n",
       "                    --jp-layout-color3: var(--colab-primary-surface-color, white);\n",
       "                }\n",
       "            </style>\n",
       "            "
      ],
      "text/plain": [
       "<IPython.core.display.HTML object>"
      ]
     },
     "metadata": {},
     "output_type": "display_data"
    }
   ],
   "source": [
    "# --- 3. Add constant property ---\n",
    "def add_constant(feat):\n",
    "  return feat.set({'constant': 1})\n",
    "soil_points_with_constant = soil_points.map(add_constant)"
   ]
  },
  {
   "cell_type": "code",
   "execution_count": 5,
   "id": "9dc6f1b9",
   "metadata": {},
   "outputs": [
    {
     "data": {
      "text/html": [
       "\n",
       "            <style>\n",
       "                .geemap-dark {\n",
       "                    --jp-widgets-color: white;\n",
       "                    --jp-widgets-label-color: white;\n",
       "                    --jp-ui-font-color1: white;\n",
       "                    --jp-layout-color2: #454545;\n",
       "                    background-color: #383838;\n",
       "                }\n",
       "\n",
       "                .geemap-dark .jupyter-button {\n",
       "                    --jp-layout-color3: #383838;\n",
       "                }\n",
       "\n",
       "                .geemap-colab {\n",
       "                    background-color: var(--colab-primary-surface-color, white);\n",
       "                }\n",
       "\n",
       "                .geemap-colab .jupyter-button {\n",
       "                    --jp-layout-color3: var(--colab-primary-surface-color, white);\n",
       "                }\n",
       "            </style>\n",
       "            "
      ],
      "text/plain": [
       "<IPython.core.display.HTML object>"
      ]
     },
     "metadata": {},
     "output_type": "display_data"
    },
    {
     "name": "stdout",
     "output_type": "stream",
     "text": [
      "\n",
      "Rasterizing points (using default projection/scale)...\n"
     ]
    }
   ],
   "source": [
    "# --- 4. Prepare Image for Distance Calculation (No Reprojection) ---\n",
    "print(\"\\nRasterizing points (using default projection/scale)...\")\n",
    "\n",
    "# Reduce to Image - uses GEE default projection/scale\n",
    "point_presence_image = soil_points_with_constant.reduceToImage(\n",
    "    properties=['constant'],\n",
    "    reducer=ee.Reducer.sum().unweighted()\n",
    ").unmask(0)\n",
    "\n",
    "# Create the source image (1 where points are, 0 elsewhere)\n",
    "source_image = point_presence_image.gt(0)"
   ]
  },
  {
   "cell_type": "code",
   "execution_count": 6,
   "id": "3479ce93",
   "metadata": {},
   "outputs": [
    {
     "data": {
      "text/html": [
       "\n",
       "            <style>\n",
       "                .geemap-dark {\n",
       "                    --jp-widgets-color: white;\n",
       "                    --jp-widgets-label-color: white;\n",
       "                    --jp-ui-font-color1: white;\n",
       "                    --jp-layout-color2: #454545;\n",
       "                    background-color: #383838;\n",
       "                }\n",
       "\n",
       "                .geemap-dark .jupyter-button {\n",
       "                    --jp-layout-color3: #383838;\n",
       "                }\n",
       "\n",
       "                .geemap-colab {\n",
       "                    background-color: var(--colab-primary-surface-color, white);\n",
       "                }\n",
       "\n",
       "                .geemap-colab .jupyter-button {\n",
       "                    --jp-layout-color3: var(--colab-primary-surface-color, white);\n",
       "                }\n",
       "            </style>\n",
       "            "
      ],
      "text/plain": [
       "<IPython.core.display.HTML object>"
      ]
     },
     "metadata": {},
     "output_type": "display_data"
    },
    {
     "name": "stdout",
     "output_type": "stream",
     "text": [
      "Calculating distance in PIXELS using fastDistanceTransform...\n"
     ]
    }
   ],
   "source": [
    "# --- 5. Calculate Distance in Pixels ---\n",
    "print(\"Calculating distance in PIXELS using fastDistanceTransform...\")\n",
    "distance_image_multiband = source_image.fastDistanceTransform(\n",
    "    neighborhood=NEIGHBORHOOD_PIXELS,\n",
    "    metric='squared_euclidean'\n",
    ")\n",
    "distance_pixels_image = distance_image_multiband.select('distance').sqrt()"
   ]
  },
  {
   "cell_type": "code",
   "execution_count": 7,
   "id": "0ad55928",
   "metadata": {},
   "outputs": [
    {
     "data": {
      "text/html": [
       "\n",
       "            <style>\n",
       "                .geemap-dark {\n",
       "                    --jp-widgets-color: white;\n",
       "                    --jp-widgets-label-color: white;\n",
       "                    --jp-ui-font-color1: white;\n",
       "                    --jp-layout-color2: #454545;\n",
       "                    background-color: #383838;\n",
       "                }\n",
       "\n",
       "                .geemap-dark .jupyter-button {\n",
       "                    --jp-layout-color3: #383838;\n",
       "                }\n",
       "\n",
       "                .geemap-colab {\n",
       "                    background-color: var(--colab-primary-surface-color, white);\n",
       "                }\n",
       "\n",
       "                .geemap-colab .jupyter-button {\n",
       "                    --jp-layout-color3: var(--colab-primary-surface-color, white);\n",
       "                }\n",
       "            </style>\n",
       "            "
      ],
      "text/plain": [
       "<IPython.core.display.HTML object>"
      ]
     },
     "metadata": {},
     "output_type": "display_data"
    },
    {
     "name": "stdout",
     "output_type": "stream",
     "text": [
      "Converting pixel distance to approximate METERS using pixelArea()...\n"
     ]
    }
   ],
   "source": [
    "# --- 6. Convert to Approximate Meters ---\n",
    "print(\"Converting pixel distance to approximate METERS using pixelArea()...\")\n",
    "pixel_size_in_meters = ee.Image.pixelArea().sqrt()\n",
    "distance_meters_image = distance_pixels_image.multiply(pixel_size_in_meters)"
   ]
  },
  {
   "cell_type": "code",
   "execution_count": 8,
   "id": "8d7dae26",
   "metadata": {},
   "outputs": [
    {
     "data": {
      "text/html": [
       "\n",
       "            <style>\n",
       "                .geemap-dark {\n",
       "                    --jp-widgets-color: white;\n",
       "                    --jp-widgets-label-color: white;\n",
       "                    --jp-ui-font-color1: white;\n",
       "                    --jp-layout-color2: #454545;\n",
       "                    background-color: #383838;\n",
       "                }\n",
       "\n",
       "                .geemap-dark .jupyter-button {\n",
       "                    --jp-layout-color3: #383838;\n",
       "                }\n",
       "\n",
       "                .geemap-colab {\n",
       "                    background-color: var(--colab-primary-surface-color, white);\n",
       "                }\n",
       "\n",
       "                .geemap-colab .jupyter-button {\n",
       "                    --jp-layout-color3: var(--colab-primary-surface-color, white);\n",
       "                }\n",
       "            </style>\n",
       "            "
      ],
      "text/plain": [
       "<IPython.core.display.HTML object>"
      ]
     },
     "metadata": {},
     "output_type": "display_data"
    },
    {
     "name": "stdout",
     "output_type": "stream",
     "text": [
      "Masking out all distances > 1000 meters...\n"
     ]
    }
   ],
   "source": [
    "# --- 7. Mask distances greater than the threshold ---\n",
    "print(f\"Masking out all distances > {MAX_DISTANCE_METERS_THRESHOLD} meters...\")\n",
    "# The .lte() function means \"less than or equal to\".\n",
    "# The mask keeps only the pixels that meet this condition.\n",
    "final_distance_image = distance_meters_image.updateMask(\n",
    "    distance_meters_image.lte(MAX_DISTANCE_METERS_THRESHOLD)\n",
    ")"
   ]
  },
  {
   "cell_type": "code",
   "execution_count": 9,
   "id": "cc36a56d",
   "metadata": {},
   "outputs": [
    {
     "data": {
      "text/html": [
       "\n",
       "            <style>\n",
       "                .geemap-dark {\n",
       "                    --jp-widgets-color: white;\n",
       "                    --jp-widgets-label-color: white;\n",
       "                    --jp-ui-font-color1: white;\n",
       "                    --jp-layout-color2: #454545;\n",
       "                    background-color: #383838;\n",
       "                }\n",
       "\n",
       "                .geemap-dark .jupyter-button {\n",
       "                    --jp-layout-color3: #383838;\n",
       "                }\n",
       "\n",
       "                .geemap-colab {\n",
       "                    background-color: var(--colab-primary-surface-color, white);\n",
       "                }\n",
       "\n",
       "                .geemap-colab .jupyter-button {\n",
       "                    --jp-layout-color3: var(--colab-primary-surface-color, white);\n",
       "                }\n",
       "            </style>\n",
       "            "
      ],
      "text/plain": [
       "<IPython.core.display.HTML object>"
      ]
     },
     "metadata": {},
     "output_type": "display_data"
    },
    {
     "name": "stdout",
     "output_type": "stream",
     "text": [
      "Simplifying final image by dividing by 10, rounding, and converting to integer...\n"
     ]
    }
   ],
   "source": [
    "# --- 8. Simplify the final image ---\n",
    "print(\"Simplifying final image by dividing by 10, rounding, and converting to integer...\")\n",
    "# This results in an image with values from 0-100. toUint8 is efficient for this range.\n",
    "simplified_distance_image = final_distance_image.divide(10).round().toUint8()\n"
   ]
  },
  {
   "cell_type": "code",
   "execution_count": 10,
   "id": "cbf6294f",
   "metadata": {},
   "outputs": [
    {
     "data": {
      "text/html": [
       "\n",
       "            <style>\n",
       "                .geemap-dark {\n",
       "                    --jp-widgets-color: white;\n",
       "                    --jp-widgets-label-color: white;\n",
       "                    --jp-ui-font-color1: white;\n",
       "                    --jp-layout-color2: #454545;\n",
       "                    background-color: #383838;\n",
       "                }\n",
       "\n",
       "                .geemap-dark .jupyter-button {\n",
       "                    --jp-layout-color3: #383838;\n",
       "                }\n",
       "\n",
       "                .geemap-colab {\n",
       "                    background-color: var(--colab-primary-surface-color, white);\n",
       "                }\n",
       "\n",
       "                .geemap-colab .jupyter-button {\n",
       "                    --jp-layout-color3: var(--colab-primary-surface-color, white);\n",
       "                }\n",
       "            </style>\n",
       "            "
      ],
      "text/plain": [
       "<IPython.core.display.HTML object>"
      ]
     },
     "metadata": {},
     "output_type": "display_data"
    },
    {
     "name": "stdout",
     "output_type": "stream",
     "text": [
      "\n",
      "Clipping final simplified image to AOI...\n"
     ]
    }
   ],
   "source": [
    "# --- 9. Clip Result ---\n",
    "print(\"\\nClipping final simplified image to AOI...\")\n",
    "final_simplified_image_clipped = simplified_distance_image.clip(aoi_geometry)"
   ]
  },
  {
   "cell_type": "code",
   "execution_count": 11,
   "id": "60bca571",
   "metadata": {},
   "outputs": [
    {
     "data": {
      "text/html": [
       "\n",
       "            <style>\n",
       "                .geemap-dark {\n",
       "                    --jp-widgets-color: white;\n",
       "                    --jp-widgets-label-color: white;\n",
       "                    --jp-ui-font-color1: white;\n",
       "                    --jp-layout-color2: #454545;\n",
       "                    background-color: #383838;\n",
       "                }\n",
       "\n",
       "                .geemap-dark .jupyter-button {\n",
       "                    --jp-layout-color3: #383838;\n",
       "                }\n",
       "\n",
       "                .geemap-colab {\n",
       "                    background-color: var(--colab-primary-surface-color, white);\n",
       "                }\n",
       "\n",
       "                .geemap-colab .jupyter-button {\n",
       "                    --jp-layout-color3: var(--colab-primary-surface-color, white);\n",
       "                }\n",
       "            </style>\n",
       "            "
      ],
      "text/plain": [
       "<IPython.core.display.HTML object>"
      ]
     },
     "metadata": {},
     "output_type": "display_data"
    },
    {
     "name": "stdout",
     "output_type": "stream",
     "text": [
      "\n",
      "Preparing map visualization...\n",
      "Visualizing simplified distances from 0 to 100.\n",
      "\n",
      "Script finished. Displaying map.\n"
     ]
    },
    {
     "data": {
      "application/vnd.jupyter.widget-view+json": {
       "model_id": "385bb091d8a1463bba2ebf23e1925aa1",
       "version_major": 2,
       "version_minor": 0
      },
      "text/plain": [
       "Map(center=[-10.62347807211283, -53.19353084531423], controls=(WidgetControl(options=['position', 'transparent…"
      ]
     },
     "execution_count": 11,
     "metadata": {},
     "output_type": "execute_result"
    }
   ],
   "source": [
    "# --- 10. Visualize the final simplified Map ---\n",
    "print(\"\\nPreparing map visualization...\")\n",
    "Map = geemap.Map()\n",
    "Map.centerObject(aoi_geometry, 4)\n",
    "\n",
    "# --- UPDATED: Visualization for the new 0-100 range ---\n",
    "dnn_vis_params = {\n",
    "  'min': 0,\n",
    "  'max': 100, # Corresponds to the original 1000m max distance\n",
    "  'palette': ['0000FF', '00FFFF', 'FFFF00', 'FF0000'] # Blue=Near -> Red=Far\n",
    "}\n",
    "print(f\"Visualizing simplified distances from 0 to 100.\")\n",
    "\n",
    "# Add layers to the map\n",
    "Map.addLayer(ee.Image().paint(aoi_geometry, 0, 2), {'palette': '000000'}, 'AOI Boundary')\n",
    "Map.addLayer(soil_points, {'color': 'FF0000'}, 'Filtered Soil Samples (Red)')\n",
    "Map.addLayer(\n",
    "    final_simplified_image_clipped,\n",
    "    dnn_vis_params,\n",
    "    'Simplified Distance (0-100)'\n",
    ")\n",
    "\n",
    "print(\"\\nScript finished. Displaying map.\")\n",
    "Map"
   ]
  }
 ],
 "metadata": {
  "kernelspec": {
   "display_name": "geemap",
   "language": "python",
   "name": "python3"
  },
  "language_info": {
   "codemirror_mode": {
    "name": "ipython",
    "version": 3
   },
   "file_extension": ".py",
   "mimetype": "text/x-python",
   "name": "python",
   "nbconvert_exporter": "python",
   "pygments_lexer": "ipython3",
   "version": "3.10.12"
  }
 },
 "nbformat": 4,
 "nbformat_minor": 5
}
