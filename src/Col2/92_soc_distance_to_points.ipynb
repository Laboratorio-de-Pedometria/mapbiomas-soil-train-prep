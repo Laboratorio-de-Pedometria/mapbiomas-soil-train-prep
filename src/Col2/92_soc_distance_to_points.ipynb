{
 "cells": [
  {
   "cell_type": "markdown",
   "id": "14840ac5",
   "metadata": {},
   "source": [
    "# Distance Classes to Nearest Soil Samples - SOC\n",
    "\n",
    "Alessandro Samuel-Rosa, Taciara Zborowski Horst\n",
    "\n",
    "2025-07-07\n",
    "\n",
    "This script calculates the distance from each pixel of a reference map to the nearest soil sample point used for soil organic carbon stock modeling across the Brazilian biomes. It is designed to produce a map that visualizes the spatial representativeness of this specific sampling network.\n",
    "\n",
    "The core calculation uses the efficient `ee.Image.fastDistanceTransform` method. The resulting distance-in-pixels is converted to a precise distance-in-meters using `ee.Image.pixelArea().sqrt()`, which accounts for map projection distortions.\n",
    "\n",
    "Finally, the continuous distance values are reclassified into six distinct classes (e.g., 0-50 m, 50-250 m, up to >10,000 m). The output is a single-band, 8-bit integer image where each pixel value from 1 to 6 corresponds to one of these distance classes.\n",
    "\n",
    "License: MIT"
   ]
  },
  {
   "cell_type": "code",
   "execution_count": 1,
   "id": "747280b1",
   "metadata": {},
   "outputs": [],
   "source": [
    "# --- 1. IMPORT LIBRARIES & INITIALIZE ---\n",
    "import ee\n",
    "import geemap\n",
    "\n",
    "# Authenticate and initialize the Earth Engine project.\n",
    "# ee.Authenticate() # Run once in your environment if needed.\n",
    "ee.Initialize(project='mapbiomas-solos-workspace')"
   ]
  },
  {
   "cell_type": "code",
   "execution_count": 2,
   "id": "1f081d0e",
   "metadata": {},
   "outputs": [
    {
     "data": {
      "text/html": [
       "\n",
       "            <style>\n",
       "                .geemap-dark {\n",
       "                    --jp-widgets-color: white;\n",
       "                    --jp-widgets-label-color: white;\n",
       "                    --jp-ui-font-color1: white;\n",
       "                    --jp-layout-color2: #454545;\n",
       "                    background-color: #383838;\n",
       "                }\n",
       "\n",
       "                .geemap-dark .jupyter-button {\n",
       "                    --jp-layout-color3: #383838;\n",
       "                }\n",
       "\n",
       "                .geemap-colab {\n",
       "                    background-color: var(--colab-primary-surface-color, white);\n",
       "                }\n",
       "\n",
       "                .geemap-colab .jupyter-button {\n",
       "                    --jp-layout-color3: var(--colab-primary-surface-color, white);\n",
       "                }\n",
       "            </style>\n",
       "            "
      ],
      "text/plain": [
       "<IPython.core.display.HTML object>"
      ]
     },
     "metadata": {},
     "output_type": "display_data"
    }
   ],
   "source": [
    "# --- 2. DEFINE ASSETS ---\n",
    "# Soil sampling points.\n",
    "samplingPoints = ee.FeatureCollection('projects/mapbiomas-workspace/SOLOS/AMOSTRAS/ORIGINAIS/2025-06-21-organic-carbon-stock-gram-per-square-meter')\n",
    "\n",
    "# Reference soil property map.\n",
    "# CORRECTED LINE: Select a valid band name from your image.\n",
    "soilPropertyMap = ee.Image('projects/mapbiomas-workspace/SOLOS/PRODUTOS_C02/c02v2/mapbiomas_soil_collection2_v2_clay').select('clay_000_010cm')\n",
    "\n",
    "# Area of Interest (AOI).\n",
    "aoi = ee.FeatureCollection('projects/mapbiomas-workspace/AUXILIAR/biomas_IBGE_250mil')"
   ]
  },
  {
   "cell_type": "code",
   "execution_count": 3,
   "id": "bb1ca6e5",
   "metadata": {},
   "outputs": [
    {
     "data": {
      "text/html": [
       "\n",
       "            <style>\n",
       "                .geemap-dark {\n",
       "                    --jp-widgets-color: white;\n",
       "                    --jp-widgets-label-color: white;\n",
       "                    --jp-ui-font-color1: white;\n",
       "                    --jp-layout-color2: #454545;\n",
       "                    background-color: #383838;\n",
       "                }\n",
       "\n",
       "                .geemap-dark .jupyter-button {\n",
       "                    --jp-layout-color3: #383838;\n",
       "                }\n",
       "\n",
       "                .geemap-colab {\n",
       "                    background-color: var(--colab-primary-surface-color, white);\n",
       "                }\n",
       "\n",
       "                .geemap-colab .jupyter-button {\n",
       "                    --jp-layout-color3: var(--colab-primary-surface-color, white);\n",
       "                }\n",
       "            </style>\n",
       "            "
      ],
      "text/plain": [
       "<IPython.core.display.HTML object>"
      ]
     },
     "metadata": {},
     "output_type": "display_data"
    }
   ],
   "source": [
    "# --- 3. PROCESS DATA: CALCULATE DISTANCE CLASSES ---\n",
    "# Create a base grid from the soil map for perfect alignment.\n",
    "sourceImage = soilPropertyMap.multiply(0).paint(samplingPoints, 1)\n",
    "\n",
    "# Apply the Fast Distance Transform (FDT).\n",
    "fdt = sourceImage.fastDistanceTransform(512, 'pixels', 'squared_euclidean')\n",
    "\n",
    "# Convert to a precise distance in meters using pixelArea().\n",
    "distanceInPixels = fdt.select('distance').sqrt()\n",
    "pixelSize = ee.Image.pixelArea().sqrt()\n",
    "distanceInMeters = distanceInPixels.multiply(pixelSize)\n",
    "\n",
    "# Reclassify the continuous distance into 6 discrete, meaningful classes.\n",
    "distanceClasses = ee.Image(6) \\\n",
    "  .where(distanceInMeters.lte(10000), 5) \\\n",
    "  .where(distanceInMeters.lte(5000), 4) \\\n",
    "  .where(distanceInMeters.lte(1000), 3) \\\n",
    "  .where(distanceInMeters.lte(250), 2) \\\n",
    "  .where(distanceInMeters.lte(50), 1) \\\n",
    "  .toUint8()\n",
    "\n",
    "# Clip the final raster to the boundary of the AOI.\n",
    "finalClasses = distanceClasses.clip(aoi)"
   ]
  },
  {
   "cell_type": "code",
   "execution_count": 4,
   "id": "2d3b09ab",
   "metadata": {},
   "outputs": [
    {
     "data": {
      "text/html": [
       "\n",
       "            <style>\n",
       "                .geemap-dark {\n",
       "                    --jp-widgets-color: white;\n",
       "                    --jp-widgets-label-color: white;\n",
       "                    --jp-ui-font-color1: white;\n",
       "                    --jp-layout-color2: #454545;\n",
       "                    background-color: #383838;\n",
       "                }\n",
       "\n",
       "                .geemap-dark .jupyter-button {\n",
       "                    --jp-layout-color3: #383838;\n",
       "                }\n",
       "\n",
       "                .geemap-colab {\n",
       "                    background-color: var(--colab-primary-surface-color, white);\n",
       "                }\n",
       "\n",
       "                .geemap-colab .jupyter-button {\n",
       "                    --jp-layout-color3: var(--colab-primary-surface-color, white);\n",
       "                }\n",
       "            </style>\n",
       "            "
      ],
      "text/plain": [
       "<IPython.core.display.HTML object>"
      ]
     },
     "metadata": {},
     "output_type": "display_data"
    },
    {
     "data": {
      "application/vnd.jupyter.widget-view+json": {
       "model_id": "58092d1bcfa04c2dbc360f4435963081",
       "version_major": 2,
       "version_minor": 0
      },
      "text/plain": [
       "Map(center=[-10.62046648393736, -53.18363392405513], controls=(WidgetControl(options=['position', 'transparent…"
      ]
     },
     "execution_count": 4,
     "metadata": {},
     "output_type": "execute_result"
    }
   ],
   "source": [
    "# --- 4. VISUALIZE THE RESULT ---\n",
    "# Create an interactive map object.\n",
    "Map = geemap.Map()\n",
    "Map.add_basemap('SATELLITE')\n",
    "\n",
    "# Define visualization parameters for the 6 classes.\n",
    "visParams = {\n",
    "  'min': 1,\n",
    "  'max': 6,\n",
    "  'palette': [\"#4545FD\", '#00A0FF', '#00FF00', '#FFFF00', '#FFA500', \"#FC4242\"]\n",
    "}\n",
    "\n",
    "# Add the final layer to the map and center the view.\n",
    "Map.addLayer(finalClasses, visParams, 'Geostatistical Distance Classes')\n",
    "Map.centerObject(aoi, 4)\n",
    "\n",
    "# Display the interactive map in your notebook.\n",
    "Map\n"
   ]
  }
 ],
 "metadata": {
  "kernelspec": {
   "display_name": "Python 3",
   "language": "python",
   "name": "python3"
  },
  "language_info": {
   "codemirror_mode": {
    "name": "ipython",
    "version": 3
   },
   "file_extension": ".py",
   "mimetype": "text/x-python",
   "name": "python",
   "nbconvert_exporter": "python",
   "pygments_lexer": "ipython3",
   "version": "3.10.12"
  }
 },
 "nbformat": 4,
 "nbformat_minor": 5
}
