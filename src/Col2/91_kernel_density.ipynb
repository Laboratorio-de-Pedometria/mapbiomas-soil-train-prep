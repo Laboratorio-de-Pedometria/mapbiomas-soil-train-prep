{
 "cells": [
  {
   "cell_type": "markdown",
   "id": "be866a88",
   "metadata": {},
   "source": [
    "# Kernel Density Estimate\n",
    "\n",
    "Alessandro Samuel-Rosa, Taciara Zborowski Horst\n",
    "\n",
    "2025-07-06\n",
    "\n",
    "License: MIT"
   ]
  },
  {
   "cell_type": "code",
   "execution_count": 186,
   "id": "9733ab49",
   "metadata": {},
   "outputs": [
    {
     "data": {
      "text/html": [
       "\n",
       "            <style>\n",
       "                .geemap-dark {\n",
       "                    --jp-widgets-color: white;\n",
       "                    --jp-widgets-label-color: white;\n",
       "                    --jp-ui-font-color1: white;\n",
       "                    --jp-layout-color2: #454545;\n",
       "                    background-color: #383838;\n",
       "                }\n",
       "\n",
       "                .geemap-dark .jupyter-button {\n",
       "                    --jp-layout-color3: #383838;\n",
       "                }\n",
       "\n",
       "                .geemap-colab {\n",
       "                    background-color: var(--colab-primary-surface-color, white);\n",
       "                }\n",
       "\n",
       "                .geemap-colab .jupyter-button {\n",
       "                    --jp-layout-color3: var(--colab-primary-surface-color, white);\n",
       "                }\n",
       "            </style>\n",
       "            "
      ],
      "text/plain": [
       "<IPython.core.display.HTML object>"
      ]
     },
     "metadata": {},
     "output_type": "display_data"
    }
   ],
   "source": [
    "import ee\n",
    "import geemap\n",
    "\n",
    "try:\n",
    "    # Initialize the Earth Engine library.\n",
    "    # Authenticate and initialize GEE if you are running this locally.\n",
    "    # In some environments like Google Colab, ee.Authenticate() might not be needed.\n",
    "    # ee.Authenticate()\n",
    "    ee.Initialize(project='mapbiomas-solos-workspace') # Your project ID\n",
    "except Exception as e:\n",
    "    print(f\"Earth Engine initialization failed: {e}\")\n",
    "    # Fallback for environments where initialization might fail but a default project exists\n",
    "    try:\n",
    "        ee.Initialize()\n",
    "    except Exception as e_fallback:\n",
    "        print(f\"Fallback Earth Engine initialization also failed: {e_fallback}\")\n",
    "        # Exit or handle the error as appropriate for your application\n",
    "        exit()"
   ]
  },
  {
   "cell_type": "code",
   "execution_count": 187,
   "id": "19f63504",
   "metadata": {},
   "outputs": [
    {
     "data": {
      "text/html": [
       "\n",
       "            <style>\n",
       "                .geemap-dark {\n",
       "                    --jp-widgets-color: white;\n",
       "                    --jp-widgets-label-color: white;\n",
       "                    --jp-ui-font-color1: white;\n",
       "                    --jp-layout-color2: #454545;\n",
       "                    background-color: #383838;\n",
       "                }\n",
       "\n",
       "                .geemap-dark .jupyter-button {\n",
       "                    --jp-layout-color3: #383838;\n",
       "                }\n",
       "\n",
       "                .geemap-colab {\n",
       "                    background-color: var(--colab-primary-surface-color, white);\n",
       "                }\n",
       "\n",
       "                .geemap-colab .jupyter-button {\n",
       "                    --jp-layout-color3: var(--colab-primary-surface-color, white);\n",
       "                }\n",
       "            </style>\n",
       "            "
      ],
      "text/plain": [
       "<IPython.core.display.HTML object>"
      ]
     },
     "metadata": {},
     "output_type": "display_data"
    }
   ],
   "source": [
    "# 1. Define the input data path\n",
    "fc_dir = 'projects/mapbiomas-workspace/SOLOS/AMOSTRAS/MATRIZES/granulometry/'\n",
    "fc_name = 'matriz-v010_0_10cm'\n",
    "soil_samples_path = f\"{fc_dir}{fc_name}\""
   ]
  },
  {
   "cell_type": "code",
   "execution_count": 188,
   "id": "81d1fb49",
   "metadata": {},
   "outputs": [
    {
     "data": {
      "text/html": [
       "\n",
       "            <style>\n",
       "                .geemap-dark {\n",
       "                    --jp-widgets-color: white;\n",
       "                    --jp-widgets-label-color: white;\n",
       "                    --jp-ui-font-color1: white;\n",
       "                    --jp-layout-color2: #454545;\n",
       "                    background-color: #383838;\n",
       "                }\n",
       "\n",
       "                .geemap-dark .jupyter-button {\n",
       "                    --jp-layout-color3: #383838;\n",
       "                }\n",
       "\n",
       "                .geemap-colab {\n",
       "                    background-color: var(--colab-primary-surface-color, white);\n",
       "                }\n",
       "\n",
       "                .geemap-colab .jupyter-button {\n",
       "                    --jp-layout-color3: var(--colab-primary-surface-color, white);\n",
       "                }\n",
       "            </style>\n",
       "            "
      ],
      "text/plain": [
       "<IPython.core.display.HTML object>"
      ]
     },
     "metadata": {},
     "output_type": "display_data"
    }
   ],
   "source": [
    "# 2. Load the datasets\n",
    "try:\n",
    "    # Load the soil sampling points as a FeatureCollection\n",
    "    soil_samples = ee.FeatureCollection(soil_samples_path)\n",
    "    # Load Brazil boundary for clipping the final result\n",
    "    brazil_boundary = ee.FeatureCollection(\"FAO/GAUL/2015/level0\").filter(ee.Filter.eq('ADM0_NAME', 'Brazil'))\n",
    "except ee.EEException as e:\n",
    "    print(f\"Error loading data from Earth Engine: {e}\")\n",
    "    exit()"
   ]
  },
  {
   "cell_type": "code",
   "execution_count": 189,
   "id": "9357e793",
   "metadata": {},
   "outputs": [
    {
     "data": {
      "text/html": [
       "\n",
       "            <style>\n",
       "                .geemap-dark {\n",
       "                    --jp-widgets-color: white;\n",
       "                    --jp-widgets-label-color: white;\n",
       "                    --jp-ui-font-color1: white;\n",
       "                    --jp-layout-color2: #454545;\n",
       "                    background-color: #383838;\n",
       "                }\n",
       "\n",
       "                .geemap-dark .jupyter-button {\n",
       "                    --jp-layout-color3: #383838;\n",
       "                }\n",
       "\n",
       "                .geemap-colab {\n",
       "                    background-color: var(--colab-primary-surface-color, white);\n",
       "                }\n",
       "\n",
       "                .geemap-colab .jupyter-button {\n",
       "                    --jp-layout-color3: var(--colab-primary-surface-color, white);\n",
       "                }\n",
       "            </style>\n",
       "            "
      ],
      "text/plain": [
       "<IPython.core.display.HTML object>"
      ]
     },
     "metadata": {},
     "output_type": "display_data"
    }
   ],
   "source": [
    "# 3. Define the Heatmap Function\n",
    "# This function encapsulates the logic from the provided JavaScript example.\n",
    "def create_heatmap(points_fc, pixel_radius, scale):\n",
    "    \"\"\"Generates a heatmap image from a feature collection of points.\"\"\"\n",
    "\n",
    "    # Add a dummy property to each feature to be used for rasterization.\n",
    "    points_with_dummy = points_fc.map(lambda feature: feature.set('dummy', 1))\n",
    "\n",
    "    # Rasterize the points into an image. Use Reducer.first() and unmask to make\n",
    "    # a binary image of points (1) and non-points (0).\n",
    "    # We reproject here to define the scale at which the pixel_radius will be applied.\n",
    "    point_image = points_with_dummy.reduceToImage(\n",
    "        properties=['dummy'],\n",
    "        reducer=ee.Reducer.first()\n",
    "    ).reproject(\n",
    "        crs='EPSG:4326',\n",
    "        scale=scale\n",
    "    ).unmask(0)\n",
    "\n",
    "    # Define a circular kernel. The radius is in pixels.\n",
    "    kernel = ee.Kernel.circle(radius=pixel_radius)\n",
    "\n",
    "    # Apply the kernel to the point image. Convolve sums the kernel values\n",
    "    # in the neighborhood of each pixel.\n",
    "    heatmap = point_image.convolve(kernel)\n",
    "\n",
    "    # Return the heatmap without masking zero values to create a continuous surface.\n",
    "    return heatmap"
   ]
  },
  {
   "cell_type": "code",
   "execution_count": 190,
   "id": "236a36db",
   "metadata": {},
   "outputs": [
    {
     "data": {
      "text/html": [
       "\n",
       "            <style>\n",
       "                .geemap-dark {\n",
       "                    --jp-widgets-color: white;\n",
       "                    --jp-widgets-label-color: white;\n",
       "                    --jp-ui-font-color1: white;\n",
       "                    --jp-layout-color2: #454545;\n",
       "                    background-color: #383838;\n",
       "                }\n",
       "\n",
       "                .geemap-dark .jupyter-button {\n",
       "                    --jp-layout-color3: #383838;\n",
       "                }\n",
       "\n",
       "                .geemap-colab {\n",
       "                    background-color: var(--colab-primary-surface-color, white);\n",
       "                }\n",
       "\n",
       "                .geemap-colab .jupyter-button {\n",
       "                    --jp-layout-color3: var(--colab-primary-surface-color, white);\n",
       "                }\n",
       "            </style>\n",
       "            "
      ],
      "text/plain": [
       "<IPython.core.display.HTML object>"
      ]
     },
     "metadata": {},
     "output_type": "display_data"
    }
   ],
   "source": [
    "# 4. Generate the Heatmap Image\n",
    "# Define the scale of the analysis and the radius of the kernel in pixels.\n",
    "# A larger radius creates a more smoothed/generalized heatmap.\n",
    "calculation_scale = 1000 # 1km pixels\n",
    "heatmap_radius_pixels = 20 # a 20-pixel radius at a 1km scale\n",
    "\n",
    "# Create the heatmap image using the function.\n",
    "heatmap_image_unclipped = create_heatmap(soil_samples, heatmap_radius_pixels, calculation_scale)\n",
    "\n",
    "# Clip the final heatmap to the boundary of Brazil.\n",
    "heatmap_image = heatmap_image_unclipped.clip(brazil_boundary)"
   ]
  },
  {
   "cell_type": "code",
   "execution_count": 191,
   "id": "657f8447",
   "metadata": {},
   "outputs": [
    {
     "data": {
      "text/html": [
       "\n",
       "            <style>\n",
       "                .geemap-dark {\n",
       "                    --jp-widgets-color: white;\n",
       "                    --jp-widgets-label-color: white;\n",
       "                    --jp-ui-font-color1: white;\n",
       "                    --jp-layout-color2: #454545;\n",
       "                    background-color: #383838;\n",
       "                }\n",
       "\n",
       "                .geemap-dark .jupyter-button {\n",
       "                    --jp-layout-color3: #383838;\n",
       "                }\n",
       "\n",
       "                .geemap-colab {\n",
       "                    background-color: var(--colab-primary-surface-color, white);\n",
       "                }\n",
       "\n",
       "                .geemap-colab .jupyter-button {\n",
       "                    --jp-layout-color3: var(--colab-primary-surface-color, white);\n",
       "                }\n",
       "            </style>\n",
       "            "
      ],
      "text/plain": [
       "<IPython.core.display.HTML object>"
      ]
     },
     "metadata": {},
     "output_type": "display_data"
    }
   ],
   "source": [
    "# 5. Define visualization parameters for the heatmap\n",
    "# Using the palette and max value from the example.\n",
    "heatmap_vis_params = {\n",
    "    'min': 0,\n",
    "    'max': 1, # This value may need adjustment for your data density\n",
    "    'palette': ['lightgreen', 'yellow', 'red']\n",
    "}"
   ]
  },
  {
   "cell_type": "code",
   "execution_count": 192,
   "id": "eaa9df34",
   "metadata": {},
   "outputs": [
    {
     "data": {
      "text/html": [
       "\n",
       "            <style>\n",
       "                .geemap-dark {\n",
       "                    --jp-widgets-color: white;\n",
       "                    --jp-widgets-label-color: white;\n",
       "                    --jp-ui-font-color1: white;\n",
       "                    --jp-layout-color2: #454545;\n",
       "                    background-color: #383838;\n",
       "                }\n",
       "\n",
       "                .geemap-dark .jupyter-button {\n",
       "                    --jp-layout-color3: #383838;\n",
       "                }\n",
       "\n",
       "                .geemap-colab {\n",
       "                    background-color: var(--colab-primary-surface-color, white);\n",
       "                }\n",
       "\n",
       "                .geemap-colab .jupyter-button {\n",
       "                    --jp-layout-color3: var(--colab-primary-surface-color, white);\n",
       "                }\n",
       "            </style>\n",
       "            "
      ],
      "text/plain": [
       "<IPython.core.display.HTML object>"
      ]
     },
     "metadata": {},
     "output_type": "display_data"
    },
    {
     "data": {
      "application/vnd.jupyter.widget-view+json": {
       "model_id": "c481d0623933479e90b742088ea841f6",
       "version_major": 2,
       "version_minor": 0
      },
      "text/plain": [
       "Map(center=[-14, -54], controls=(WidgetControl(options=['position', 'transparent_bg'], widget=SearchDataGUI(ch…"
      ]
     },
     "execution_count": 192,
     "metadata": {},
     "output_type": "execute_result"
    }
   ],
   "source": [
    "# 6. Create and display the map\n",
    "# Initialize a geemap Map object\n",
    "m = geemap.Map(center=[-14, -54], zoom=4) # Center on Brazil\n",
    "\n",
    "# Add the final heatmap layer to the map\n",
    "m.addLayer(heatmap_image, heatmap_vis_params, 'Soil Sample Heatmap')\n",
    "\n",
    "# Add the original soil sample points for reference\n",
    "m.addLayer(soil_samples, {'color': 'blue'}, 'Soil Sample Points', False) # Initially off\n",
    "\n",
    "# Add a layer control to toggle layers on and off\n",
    "m.addLayerControl()\n",
    "\n",
    "# Display the map\n",
    "m\n"
   ]
  }
 ],
 "metadata": {
  "kernelspec": {
   "display_name": "geemap",
   "language": "python",
   "name": "python3"
  },
  "language_info": {
   "codemirror_mode": {
    "name": "ipython",
    "version": 3
   },
   "file_extension": ".py",
   "mimetype": "text/x-python",
   "name": "python",
   "nbconvert_exporter": "python",
   "pygments_lexer": "ipython3",
   "version": "3.10.12"
  }
 },
 "nbformat": 4,
 "nbformat_minor": 5
}
