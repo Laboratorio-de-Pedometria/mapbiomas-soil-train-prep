{
 "cells": [
  {
   "cell_type": "markdown",
   "id": "0671a9c6",
   "metadata": {},
   "source": [
    "# Download soil particle size design matrix asset (data frame) from GEE\n",
    "\n",
    "Alessandro Samuel-Rosa, Taciara Zborowski Horst\n",
    "\n",
    "2024-05-26\n",
    "\n",
    "This script exports the soil Particle Size Distribution (PSD) design matrix from Google Earth Engine\n",
    "(GEE) to Google Drive as a CSV file in the \"Earth Engine Exports\" directory.\n",
    "\n",
    "License: MIT"
   ]
  },
  {
   "cell_type": "code",
   "execution_count": 5,
   "id": "94b3abc1",
   "metadata": {},
   "outputs": [],
   "source": [
    "# Load required libraries\n",
    "import ee\n",
    "import ee.batch\n",
    "\n",
    "# Initialize the Earth Engine API\n",
    "# ee.Authenticate()\n",
    "ee.Initialize(project='mapbiomas-solos-workspace')\n",
    "\n",
    "# Define the path to the FeatureCollection directory\n",
    "fc_dir = 'projects/mapbiomas-workspace/SOLOS/AMOSTRAS/MATRIZES/granulometry/'\n",
    "\n",
    "# Define the output Google Drive folder\n",
    "gdrive_folder = 'Earth Engine Exports'"
   ]
  },
  {
   "cell_type": "markdown",
   "id": "ab22debe",
   "metadata": {},
   "source": [
    "## PSD matrix 0-10 cm depth"
   ]
  },
  {
   "cell_type": "code",
   "execution_count": 6,
   "id": "af1b3451",
   "metadata": {},
   "outputs": [
    {
     "name": "stdout",
     "output_type": "stream",
     "text": [
      "Export task started. Check Google Drive for file.\n",
      "{'state': 'READY', 'description': 'ASR Export psd_c02beta_000_010cm_v2 to Drive', 'priority': 100, 'creation_timestamp_ms': 1750371738215, 'update_timestamp_ms': 1750371738215, 'start_timestamp_ms': 0, 'task_type': 'EXPORT_FEATURES', 'id': 'D4TEDKV5OZ7NKH4KPVRDR33Z', 'name': 'projects/mapbiomas-solos-workspace/operations/D4TEDKV5OZ7NKH4KPVRDR33Z'}\n"
     ]
    }
   ],
   "source": [
    "# psd_c02beta_000_010cm_v2\n",
    "fc_name = 'psd_c02beta_000_010cm_v2'\n",
    "fc_path = f'{fc_dir}{fc_name}'\n",
    "# Export the FeatureCollection to Google Drive\n",
    "fc = ee.FeatureCollection(fc_path)\n",
    "task = ee.batch.Export.table.toDrive(\n",
    "    collection=fc,\n",
    "    description=f'ASR Export {fc_name} to Drive',\n",
    "    folder=gdrive_folder,\n",
    "    fileNamePrefix=fc_name,\n",
    "    fileFormat='CSV'\n",
    ")\n",
    "task.start()\n",
    "print(f\"Export task started. Check Google Drive for file.\")\n",
    "print(task.status())"
   ]
  },
  {
   "cell_type": "markdown",
   "id": "4f321c28",
   "metadata": {},
   "source": [
    "## PSD matrix 10-20 cm depth"
   ]
  },
  {
   "cell_type": "code",
   "execution_count": 7,
   "id": "5af79367",
   "metadata": {},
   "outputs": [
    {
     "name": "stdout",
     "output_type": "stream",
     "text": [
      "Export task started. Check Google Drive for file.\n",
      "{'state': 'READY', 'description': 'ASR Export psd_c02beta_010_020cm_v2 to Drive', 'priority': 100, 'creation_timestamp_ms': 1750371745952, 'update_timestamp_ms': 1750371745952, 'start_timestamp_ms': 0, 'task_type': 'EXPORT_FEATURES', 'id': 'D7HCRDOXQWL42ONO62RXZZQW', 'name': 'projects/mapbiomas-solos-workspace/operations/D7HCRDOXQWL42ONO62RXZZQW'}\n"
     ]
    }
   ],
   "source": [
    "# psd_c02beta_010_020cm_v2\n",
    "fc_name = 'psd_c02beta_010_020cm_v2'\n",
    "fc_path = f'{fc_dir}{fc_name}'\n",
    "# Export the FeatureCollection to Google Drive\n",
    "fc = ee.FeatureCollection(fc_path)\n",
    "task = ee.batch.Export.table.toDrive(\n",
    "    collection=fc,\n",
    "    description=f'ASR Export {fc_name} to Drive',\n",
    "    folder=gdrive_folder,\n",
    "    fileNamePrefix=fc_name,\n",
    "    fileFormat='CSV'\n",
    ")\n",
    "task.start()\n",
    "print(f\"Export task started. Check Google Drive for file.\")\n",
    "print(task.status())"
   ]
  },
  {
   "cell_type": "markdown",
   "id": "78f5e40d",
   "metadata": {},
   "source": [
    "# PSD matrix 20-30 cm depth"
   ]
  },
  {
   "cell_type": "code",
   "execution_count": 8,
   "id": "903e1708",
   "metadata": {},
   "outputs": [
    {
     "name": "stdout",
     "output_type": "stream",
     "text": [
      "Export task started. Check Google Drive for file.\n",
      "{'state': 'READY', 'description': 'ASR Export psd_c02beta_020_030cm_v2 to Drive', 'priority': 100, 'creation_timestamp_ms': 1750371747778, 'update_timestamp_ms': 1750371747778, 'start_timestamp_ms': 0, 'task_type': 'EXPORT_FEATURES', 'id': 'BLQ2KQXNEWCQC337MR7NZRFG', 'name': 'projects/mapbiomas-solos-workspace/operations/BLQ2KQXNEWCQC337MR7NZRFG'}\n"
     ]
    }
   ],
   "source": [
    "# psd_c02beta_020_030cm_v2\n",
    "fc_name = 'psd_c02beta_020_030cm_v2'\n",
    "fc_path = f'{fc_dir}{fc_name}'\n",
    "# Export the FeatureCollection to Google Drive\n",
    "fc = ee.FeatureCollection(fc_path)\n",
    "task = ee.batch.Export.table.toDrive(\n",
    "    collection=fc,\n",
    "    description=f'ASR Export {fc_name} to Drive',\n",
    "    folder=gdrive_folder,\n",
    "    fileNamePrefix=fc_name,\n",
    "    fileFormat='CSV'\n",
    ")\n",
    "task.start()\n",
    "print(f\"Export task started. Check Google Drive for file.\")\n",
    "print(task.status())"
   ]
  }
 ],
 "metadata": {
  "kernelspec": {
   "display_name": "geemap",
   "language": "python",
   "name": "python3"
  },
  "language_info": {
   "codemirror_mode": {
    "name": "ipython",
    "version": 3
   },
   "file_extension": ".py",
   "mimetype": "text/x-python",
   "name": "python",
   "nbconvert_exporter": "python",
   "pygments_lexer": "ipython3",
   "version": "3.10.12"
  }
 },
 "nbformat": 4,
 "nbformat_minor": 5
}
