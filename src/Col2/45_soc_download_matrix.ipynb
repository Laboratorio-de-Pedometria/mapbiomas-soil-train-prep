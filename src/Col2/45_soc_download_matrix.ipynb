{
 "cells": [
  {
   "cell_type": "markdown",
   "id": "0c742925",
   "metadata": {},
   "source": [
    "# Download soil organic carbon design matrix asset (data frame) from GEE\n",
    "\n",
    "Alessandro Samuel-Rosa, Taciara Zborowski Horst\n",
    "\n",
    "2025-06-19\n",
    "\n",
    "This script exports the soil Soil Organic Carbon (SOC) stock design matrix from Google Earth Engine\n",
    "(GEE) to Google Drive as a CSV file in the \"Earth Engine Exports\" directory.\n",
    "\n",
    "License: MIT"
   ]
  },
  {
   "cell_type": "code",
   "execution_count": 5,
   "id": "2089625e",
   "metadata": {},
   "outputs": [],
   "source": [
    "# Load required libraries\n",
    "import ee\n",
    "import ee.batch\n",
    "\n",
    "# Initialize the Earth Engine API\n",
    "# ee.Authenticate()\n",
    "ee.Initialize(project='mapbiomas-solos-workspace')\n",
    "\n",
    "# Define the path to the FeatureCollection directory\n",
    "fc_dir = 'projects/mapbiomas-workspace/SOLOS/AMOSTRAS/MATRIZES/soil_organic_carbon/'\n",
    "\n",
    "# Define the output Google Drive folder\n",
    "gdrive_folder = 'Earth Engine Exports'"
   ]
  },
  {
   "cell_type": "markdown",
   "id": "f45760a8",
   "metadata": {},
   "source": [
    "## Model 1: Amazon"
   ]
  },
  {
   "cell_type": "code",
   "execution_count": 6,
   "id": "b77d6b4e",
   "metadata": {},
   "outputs": [
    {
     "name": "stdout",
     "output_type": "stream",
     "text": [
      "Export task started. Check Google Drive for file.\n",
      "{'state': 'READY', 'description': 'ASR Export matriz-collection2_MODEL1_v2 to Drive', 'priority': 100, 'creation_timestamp_ms': 1750612362517, 'update_timestamp_ms': 1750612362517, 'start_timestamp_ms': 0, 'task_type': 'EXPORT_FEATURES', 'id': '7H5ZWAO6LOIOBM3TETPIUINK', 'name': 'projects/mapbiomas-solos-workspace/operations/7H5ZWAO6LOIOBM3TETPIUINK'}\n"
     ]
    }
   ],
   "source": [
    "# matriz-collection2_MODEL1_v2\n",
    "fc_name = 'matriz-collection2_MODEL1_v2'\n",
    "fc_path = fc_dir + fc_name\n",
    "# Export the FeatureCollection to Google Drive\n",
    "fc = ee.FeatureCollection(fc_path)\n",
    "task = ee.batch.Export.table.toDrive(\n",
    "    collection=fc,\n",
    "    description=f'ASR Export {fc_name} to Drive',\n",
    "    folder=gdrive_folder,\n",
    "    fileNamePrefix=fc_name,\n",
    "    fileFormat='CSV'\n",
    ")\n",
    "task.start()\n",
    "print(f\"Export task started. Check Google Drive for file.\")\n",
    "print(task.status())"
   ]
  },
  {
   "cell_type": "markdown",
   "id": "70b9e559",
   "metadata": {},
   "source": [
    "## Model 2: Cerrado, Pantanal, Caatinga, and Atlantic Forest"
   ]
  },
  {
   "cell_type": "code",
   "execution_count": 7,
   "id": "34f1f01e",
   "metadata": {},
   "outputs": [
    {
     "name": "stdout",
     "output_type": "stream",
     "text": [
      "Export task started. Check Google Drive for file.\n",
      "{'state': 'READY', 'description': 'ASR Export matriz-collection2_MODEL2_v2 to Drive', 'priority': 100, 'creation_timestamp_ms': 1750612844133, 'update_timestamp_ms': 1750612844133, 'start_timestamp_ms': 0, 'task_type': 'EXPORT_FEATURES', 'id': 'SSNDYF2PEPGDXIOXJ6L22RO3', 'name': 'projects/mapbiomas-solos-workspace/operations/SSNDYF2PEPGDXIOXJ6L22RO3'}\n"
     ]
    }
   ],
   "source": [
    "# matriz-collection2_MODEL2_v2\n",
    "fc_name = 'matriz-collection2_MODEL2_v2'\n",
    "fc_path = fc_dir + fc_name\n",
    "# Export the FeatureCollection to Google Drive\n",
    "fc = ee.FeatureCollection(fc_path)\n",
    "task = ee.batch.Export.table.toDrive(\n",
    "    collection=fc,\n",
    "    description=f'ASR Export {fc_name} to Drive',\n",
    "    folder=gdrive_folder,\n",
    "    fileNamePrefix=fc_name,\n",
    "    fileFormat='CSV'\n",
    ")\n",
    "task.start()\n",
    "print(f\"Export task started. Check Google Drive for file.\")\n",
    "print(task.status())"
   ]
  },
  {
   "cell_type": "markdown",
   "id": "4019b48e",
   "metadata": {},
   "source": [
    "## Model 3: Pampa"
   ]
  },
  {
   "cell_type": "code",
   "execution_count": 8,
   "id": "3b87b86f",
   "metadata": {},
   "outputs": [
    {
     "name": "stdout",
     "output_type": "stream",
     "text": [
      "Export task started. Check Google Drive for file.\n",
      "{'state': 'READY', 'description': 'ASR Export matriz-collection2_MODEL3_v2 to Drive', 'priority': 100, 'creation_timestamp_ms': 1750613537556, 'update_timestamp_ms': 1750613537556, 'start_timestamp_ms': 0, 'task_type': 'EXPORT_FEATURES', 'id': 'P7CJY6WDRI6XNOWCLFKL2TFA', 'name': 'projects/mapbiomas-solos-workspace/operations/P7CJY6WDRI6XNOWCLFKL2TFA'}\n"
     ]
    }
   ],
   "source": [
    "# matriz-collection2_MODEL3_v2\n",
    "fc_name = 'matriz-collection2_MODEL3_v2'\n",
    "fc_path = fc_dir + fc_name\n",
    "# Export the FeatureCollection to Google Drive\n",
    "fc = ee.FeatureCollection(fc_path)\n",
    "task = ee.batch.Export.table.toDrive(\n",
    "    collection=fc,\n",
    "    description=f'ASR Export {fc_name} to Drive',\n",
    "    folder=gdrive_folder,\n",
    "    fileNamePrefix=fc_name,\n",
    "    fileFormat='CSV'\n",
    ")\n",
    "task.start()\n",
    "print(f\"Export task started. Check Google Drive for file.\")\n",
    "print(task.status())"
   ]
  }
 ],
 "metadata": {
  "kernelspec": {
   "display_name": "geemap",
   "language": "python",
   "name": "python3"
  },
  "language_info": {
   "codemirror_mode": {
    "name": "ipython",
    "version": 3
   },
   "file_extension": ".py",
   "mimetype": "text/x-python",
   "name": "python",
   "nbconvert_exporter": "python",
   "pygments_lexer": "ipython3",
   "version": "3.10.12"
  }
 },
 "nbformat": 4,
 "nbformat_minor": 5
}
