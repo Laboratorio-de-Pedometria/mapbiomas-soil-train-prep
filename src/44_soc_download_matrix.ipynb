{
 "cells": [
  {
   "cell_type": "markdown",
   "id": "0c742925",
   "metadata": {},
   "source": [
    "# Download soil organic carbon design matrix asset (data frame) from GEE\n",
    "\n",
    "Alessandro Samuel-Rosa, Taciara Zborowski Horst\n",
    "\n",
    "2025-06-19\n",
    "\n",
    "This script exports the soil Soil Organic Carbon (SOC) stock design matrix from Google Earth Engine\n",
    "(GEE) to Google Drive as a CSV file in the \"Earth Engine Exports\" directory.\n",
    "\n",
    "License: MIT"
   ]
  },
  {
   "cell_type": "code",
   "execution_count": 1,
   "id": "2089625e",
   "metadata": {},
   "outputs": [],
   "source": [
    "# Load required libraries\n",
    "import ee\n",
    "import ee.batch\n",
    "\n",
    "# Initialize the Earth Engine API\n",
    "# ee.Authenticate()\n",
    "ee.Initialize(project='mapbiomas-solos-workspace')\n",
    "\n",
    "# Define the path to the FeatureCollection directory\n",
    "fc_dir = 'projects/mapbiomas-workspace/SOLOS/AMOSTRAS/MATRIZES/soil_organic_carbon/'\n",
    "\n",
    "# Define the output Google Drive folder\n",
    "gdrive_folder = 'Earth Engine Exports'"
   ]
  },
  {
   "cell_type": "markdown",
   "id": "8f113fba",
   "metadata": {},
   "source": [
    "## SOC Stock matrix Amazon"
   ]
  },
  {
   "cell_type": "code",
   "execution_count": 2,
   "id": "b77d6b4e",
   "metadata": {},
   "outputs": [
    {
     "name": "stdout",
     "output_type": "stream",
     "text": [
      "Export task started. Check Google Drive for file.\n",
      "{'state': 'READY', 'description': 'ASR Export matriz-collection2-filter-rep-FINAL_MODEL1 to Drive', 'priority': 100, 'creation_timestamp_ms': 1750381471380, 'update_timestamp_ms': 1750381471380, 'start_timestamp_ms': 0, 'task_type': 'EXPORT_FEATURES', 'id': 'DPHGDMM2PPVRBHISG4AQEKNY', 'name': 'projects/mapbiomas-solos-workspace/operations/DPHGDMM2PPVRBHISG4AQEKNY'}\n"
     ]
    }
   ],
   "source": [
    "# matriz-collection2-filter-rep-FINAL_MODEL1\n",
    "fc_name = 'matriz-collection2-filter-rep-FINAL_MODEL1'\n",
    "fc_path = fc_dir + fc_name\n",
    "# Export the FeatureCollection to Google Drive\n",
    "fc = ee.FeatureCollection(fc_path)\n",
    "task = ee.batch.Export.table.toDrive(\n",
    "    collection=fc,\n",
    "    description=f'ASR Export {fc_name} to Drive',\n",
    "    folder=gdrive_folder,\n",
    "    fileNamePrefix=fc_name,\n",
    "    fileFormat='CSV'\n",
    ")\n",
    "task.start()\n",
    "print(f\"Export task started. Check Google Drive for file.\")\n",
    "print(task.status())"
   ]
  },
  {
   "cell_type": "markdown",
   "id": "7a9ec5cc",
   "metadata": {},
   "source": [
    "## SOC Stock matrix Atlantic Forest + Cerrado + Caatinga + Pantanal"
   ]
  },
  {
   "cell_type": "code",
   "execution_count": 3,
   "id": "113d43ae",
   "metadata": {},
   "outputs": [
    {
     "name": "stdout",
     "output_type": "stream",
     "text": [
      "Export task started. Check Google Drive for file.\n",
      "{'state': 'READY', 'description': 'ASR Export matriz-collection2-filter-rep-FINAL_MODEL2 to Drive', 'priority': 100, 'creation_timestamp_ms': 1750381672751, 'update_timestamp_ms': 1750381672751, 'start_timestamp_ms': 0, 'task_type': 'EXPORT_FEATURES', 'id': '66CV2WQ6QEVWBG6764K42R34', 'name': 'projects/mapbiomas-solos-workspace/operations/66CV2WQ6QEVWBG6764K42R34'}\n"
     ]
    }
   ],
   "source": [
    "# matriz-collection2-filter-rep-FINAL_MODEL2\n",
    "fc_name = 'matriz-collection2-filter-rep-FINAL_MODEL2'\n",
    "fc_path = fc_dir + fc_name\n",
    "# Export the FeatureCollection to Google Drive\n",
    "fc = ee.FeatureCollection(fc_path)\n",
    "task = ee.batch.Export.table.toDrive(\n",
    "    collection=fc,\n",
    "    description=f'ASR Export {fc_name} to Drive',\n",
    "    folder=gdrive_folder,\n",
    "    fileNamePrefix=fc_name,\n",
    "    fileFormat='CSV'\n",
    ")\n",
    "task.start()\n",
    "print(f\"Export task started. Check Google Drive for file.\")\n",
    "print(task.status())"
   ]
  },
  {
   "cell_type": "markdown",
   "id": "e07f78c7",
   "metadata": {},
   "source": [
    "## SOC Stock matrix Atlantic Forest + Cerrado + Caatinga + Pantanal + Pampa"
   ]
  },
  {
   "cell_type": "code",
   "execution_count": 4,
   "id": "1ab0b52a",
   "metadata": {},
   "outputs": [
    {
     "name": "stdout",
     "output_type": "stream",
     "text": [
      "Export task started. Check Google Drive for file.\n",
      "{'state': 'READY', 'description': 'ASR Export matriz-collection2-filter-rep-FINAL_MODEL3 to Drive', 'priority': 100, 'creation_timestamp_ms': 1750381699664, 'update_timestamp_ms': 1750381699664, 'start_timestamp_ms': 0, 'task_type': 'EXPORT_FEATURES', 'id': '4BYW4X6TBJOXE5NCAOUWGQAH', 'name': 'projects/mapbiomas-solos-workspace/operations/4BYW4X6TBJOXE5NCAOUWGQAH'}\n"
     ]
    }
   ],
   "source": [
    "# matriz-collection2-filter-rep-FINAL_MODEL3\n",
    "fc_name = 'matriz-collection2-filter-rep-FINAL_MODEL3'\n",
    "fc_path = fc_dir + fc_name\n",
    "# Export the FeatureCollection to Google Drive\n",
    "fc = ee.FeatureCollection(fc_path)\n",
    "task = ee.batch.Export.table.toDrive(\n",
    "    collection=fc,\n",
    "    description=f'ASR Export {fc_name} to Drive',\n",
    "    folder=gdrive_folder,\n",
    "    fileNamePrefix=fc_name,\n",
    "    fileFormat='CSV'\n",
    ")\n",
    "task.start()\n",
    "print(f\"Export task started. Check Google Drive for file.\")\n",
    "print(task.status())"
   ]
  },
  {
   "cell_type": "code",
   "execution_count": 5,
   "id": "cd055e3c",
   "metadata": {},
   "outputs": [
    {
     "name": "stdout",
     "output_type": "stream",
     "text": [
      "Export task started. Check Google Drive for file.\n",
      "{'state': 'READY', 'description': 'ASR Export 2024-12-01-organic-carbon-stock-gram-per-square-meter-filter-rep to Drive', 'priority': 100, 'creation_timestamp_ms': 1750385245501, 'update_timestamp_ms': 1750385245501, 'start_timestamp_ms': 0, 'task_type': 'EXPORT_FEATURES', 'id': '4IOCHUWGQM6TRT6ZSF4SLQBE', 'name': 'projects/mapbiomas-solos-workspace/operations/4IOCHUWGQM6TRT6ZSF4SLQBE'}\n"
     ]
    }
   ],
   "source": [
    "fc_dir = 'projects/mapbiomas-workspace/SOLOS/AMOSTRAS/ORIGINAIS/'\n",
    "# 2024-12-01-organic-carbon-stock-gram-per-square-meter-filter-rep\n",
    "fc_name = '2024-12-01-organic-carbon-stock-gram-per-square-meter-filter-rep'\n",
    "fc_path = fc_dir + fc_name\n",
    "# Export the FeatureCollection to Google Drive\n",
    "fc = ee.FeatureCollection(fc_path)\n",
    "task = ee.batch.Export.table.toDrive(\n",
    "    collection=fc,\n",
    "    description=f'ASR Export {fc_name} to Drive',\n",
    "    folder=gdrive_folder,\n",
    "    fileNamePrefix=fc_name,\n",
    "    fileFormat='CSV'\n",
    ")\n",
    "task.start()\n",
    "print(f\"Export task started. Check Google Drive for file.\")\n",
    "print(task.status())"
   ]
  }
 ],
 "metadata": {
  "kernelspec": {
   "display_name": "geemap",
   "language": "python",
   "name": "python3"
  },
  "language_info": {
   "codemirror_mode": {
    "name": "ipython",
    "version": 3
   },
   "file_extension": ".py",
   "mimetype": "text/x-python",
   "name": "python",
   "nbconvert_exporter": "python",
   "pygments_lexer": "ipython3",
   "version": "3.10.12"
  }
 },
 "nbformat": 4,
 "nbformat_minor": 5
}
