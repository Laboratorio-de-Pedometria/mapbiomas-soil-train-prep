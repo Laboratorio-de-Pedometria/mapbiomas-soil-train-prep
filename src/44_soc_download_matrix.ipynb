{
 "cells": [
  {
   "cell_type": "markdown",
   "id": "0c742925",
   "metadata": {},
   "source": [
    "# Download soil organic carbon design matrix asset (data frame) from GEE\n",
    "\n",
    "Alessandro Samuel-Rosa, Taciara Zborowski Horst\n",
    "\n",
    "2025-06-19\n",
    "\n",
    "This script exports the soil Soil Organic Carbon (SOC) stock design matrix from Google Earth Engine\n",
    "(GEE) to Google Drive as a CSV file in the \"Earth Engine Exports\" directory.\n",
    "\n",
    "License: MIT"
   ]
  },
  {
   "cell_type": "code",
   "execution_count": 9,
   "id": "2089625e",
   "metadata": {},
   "outputs": [],
   "source": [
    "# Load required libraries\n",
    "import ee\n",
    "import ee.batch\n",
    "\n",
    "# Initialize the Earth Engine API\n",
    "# ee.Authenticate()\n",
    "ee.Initialize(project='mapbiomas-solos-workspace')\n",
    "\n",
    "# Define the path to the FeatureCollection directory\n",
    "fc_dir = 'projects/mapbiomas-workspace/SOLOS/AMOSTRAS/MATRIZES/soil_organic_carbon/'\n",
    "\n",
    "# Define the output Google Drive folder\n",
    "gdrive_folder = 'Earth Engine Exports'"
   ]
  },
  {
   "cell_type": "code",
   "execution_count": 10,
   "id": "b77d6b4e",
   "metadata": {},
   "outputs": [
    {
     "name": "stdout",
     "output_type": "stream",
     "text": [
      "Export task started. Check Google Drive for file.\n",
      "{'state': 'READY', 'description': 'ASR Export matriz-col2v2 to Drive', 'priority': 100, 'creation_timestamp_ms': 1750461172656, 'update_timestamp_ms': 1750461172656, 'start_timestamp_ms': 0, 'task_type': 'EXPORT_FEATURES', 'id': 'FDTFQIDFPT22B7R4RR2S7G4H', 'name': 'projects/mapbiomas-solos-workspace/operations/FDTFQIDFPT22B7R4RR2S7G4H'}\n"
     ]
    }
   ],
   "source": [
    "# matriz-col2v2\n",
    "fc_name = 'matriz-col2v2'\n",
    "fc_path = fc_dir + fc_name\n",
    "# Export the FeatureCollection to Google Drive\n",
    "fc = ee.FeatureCollection(fc_path)\n",
    "task = ee.batch.Export.table.toDrive(\n",
    "    collection=fc,\n",
    "    description=f'ASR Export {fc_name} to Drive',\n",
    "    folder=gdrive_folder,\n",
    "    fileNamePrefix=fc_name,\n",
    "    fileFormat='CSV'\n",
    ")\n",
    "task.start()\n",
    "print(f\"Export task started. Check Google Drive for file.\")\n",
    "print(task.status())"
   ]
  }
 ],
 "metadata": {
  "kernelspec": {
   "display_name": "geemap",
   "language": "python",
   "name": "python3"
  },
  "language_info": {
   "codemirror_mode": {
    "name": "ipython",
    "version": 3
   },
   "file_extension": ".py",
   "mimetype": "text/x-python",
   "name": "python",
   "nbconvert_exporter": "python",
   "pygments_lexer": "ipython3",
   "version": "3.10.12"
  }
 },
 "nbformat": 4,
 "nbformat_minor": 5
}
